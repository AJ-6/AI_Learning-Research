{
 "cells": [
  {
   "cell_type": "code",
   "execution_count": 69,
   "id": "b3b546fb-0f4a-4363-8a64-705b7e7e784a",
   "metadata": {
    "tags": []
   },
   "outputs": [],
   "source": [
    "import pandas as pd"
   ]
  },
  {
   "cell_type": "code",
   "execution_count": 70,
   "id": "706ee1ce-c70c-483f-9d88-b8b6ab277edf",
   "metadata": {
    "tags": []
   },
   "outputs": [],
   "source": [
    "from wordcloud import WordCloud"
   ]
  },
  {
   "cell_type": "code",
   "execution_count": 71,
   "id": "49b9bce2-6918-4cb0-b4c9-2c22faa870b0",
   "metadata": {
    "tags": []
   },
   "outputs": [],
   "source": [
    "import numpy as np\n",
    "import matplotlib.pyplot as plt\n",
    "from statistics import *\n",
    "from sklearn.feature_extraction.text import CountVectorizer\n",
    "from sklearn.model_selection import train_test_split\n",
    "from sklearn.naive_bayes import MultinomialNB\n",
    "from sklearn.metrics import *\n",
    "from sklearn.model_selection import KFold\n",
    "from sklearn.svm import SVC\n",
    "from sklearn.ensemble import RandomForestClassifier\n",
    "from sklearn.linear_model import Perceptron"
   ]
  },
  {
   "cell_type": "code",
   "execution_count": 72,
   "id": "2209ba81-d670-48a1-958e-d4ae99ea00e7",
   "metadata": {},
   "outputs": [],
   "source": [
    "file_path = \"C:\\\\Users\\\\agrim\\\\Python_Projects\\\\AI_Learning-Research\\\\Spam Classification\\\\SMSSpamCollection (1).txt\"\n",
    "\n",
    "df = pd.read_table(file_path, sep = '\\t', header = None)"
   ]
  },
  {
   "cell_type": "code",
   "execution_count": 73,
   "id": "a9ada05e-06c1-49b3-8c34-24178ae3679a",
   "metadata": {},
   "outputs": [
    {
     "data": {
      "text/html": [
       "<div>\n",
       "<style scoped>\n",
       "    .dataframe tbody tr th:only-of-type {\n",
       "        vertical-align: middle;\n",
       "    }\n",
       "\n",
       "    .dataframe tbody tr th {\n",
       "        vertical-align: top;\n",
       "    }\n",
       "\n",
       "    .dataframe thead th {\n",
       "        text-align: right;\n",
       "    }\n",
       "</style>\n",
       "<table border=\"1\" class=\"dataframe\">\n",
       "  <thead>\n",
       "    <tr style=\"text-align: right;\">\n",
       "      <th></th>\n",
       "      <th>0</th>\n",
       "      <th>1</th>\n",
       "    </tr>\n",
       "  </thead>\n",
       "  <tbody>\n",
       "    <tr>\n",
       "      <th>0</th>\n",
       "      <td>ham</td>\n",
       "      <td>Where to get those?</td>\n",
       "    </tr>\n",
       "    <tr>\n",
       "      <th>1</th>\n",
       "      <td>ham</td>\n",
       "      <td>K go and sleep well. Take rest:-).</td>\n",
       "    </tr>\n",
       "    <tr>\n",
       "      <th>2</th>\n",
       "      <td>spam</td>\n",
       "      <td>22 days to kick off! For Euro2004 U will be ke...</td>\n",
       "    </tr>\n",
       "    <tr>\n",
       "      <th>3</th>\n",
       "      <td>ham</td>\n",
       "      <td>When i have stuff to sell i.ll tell you</td>\n",
       "    </tr>\n",
       "    <tr>\n",
       "      <th>4</th>\n",
       "      <td>spam</td>\n",
       "      <td>Sunshine Quiz Wkly Q! Win a top Sony DVD playe...</td>\n",
       "    </tr>\n",
       "  </tbody>\n",
       "</table>\n",
       "</div>"
      ],
      "text/plain": [
       "      0                                                  1\n",
       "0   ham                                Where to get those?\n",
       "1   ham                 K go and sleep well. Take rest:-).\n",
       "2  spam  22 days to kick off! For Euro2004 U will be ke...\n",
       "3   ham            When i have stuff to sell i.ll tell you\n",
       "4  spam  Sunshine Quiz Wkly Q! Win a top Sony DVD playe..."
      ]
     },
     "execution_count": 73,
     "metadata": {},
     "output_type": "execute_result"
    }
   ],
   "source": [
    "df = df.reindex(np.random.permutation(df.index))\n",
    "df.reset_index(inplace=True, drop=True)\n",
    "df.head()"
   ]
  },
  {
   "cell_type": "code",
   "execution_count": 74,
   "id": "2b327cb6-c047-4742-bc7d-756df08c4bfe",
   "metadata": {
    "tags": []
   },
   "outputs": [
    {
     "data": {
      "text/html": [
       "<div>\n",
       "<style scoped>\n",
       "    .dataframe tbody tr th:only-of-type {\n",
       "        vertical-align: middle;\n",
       "    }\n",
       "\n",
       "    .dataframe tbody tr th {\n",
       "        vertical-align: top;\n",
       "    }\n",
       "\n",
       "    .dataframe thead th {\n",
       "        text-align: right;\n",
       "    }\n",
       "</style>\n",
       "<table border=\"1\" class=\"dataframe\">\n",
       "  <thead>\n",
       "    <tr style=\"text-align: right;\">\n",
       "      <th></th>\n",
       "      <th>label</th>\n",
       "      <th>sms_message</th>\n",
       "    </tr>\n",
       "  </thead>\n",
       "  <tbody>\n",
       "    <tr>\n",
       "      <th>0</th>\n",
       "      <td>ham</td>\n",
       "      <td>Where to get those?</td>\n",
       "    </tr>\n",
       "    <tr>\n",
       "      <th>1</th>\n",
       "      <td>ham</td>\n",
       "      <td>K go and sleep well. Take rest:-).</td>\n",
       "    </tr>\n",
       "    <tr>\n",
       "      <th>2</th>\n",
       "      <td>spam</td>\n",
       "      <td>22 days to kick off! For Euro2004 U will be ke...</td>\n",
       "    </tr>\n",
       "    <tr>\n",
       "      <th>3</th>\n",
       "      <td>ham</td>\n",
       "      <td>When i have stuff to sell i.ll tell you</td>\n",
       "    </tr>\n",
       "    <tr>\n",
       "      <th>4</th>\n",
       "      <td>spam</td>\n",
       "      <td>Sunshine Quiz Wkly Q! Win a top Sony DVD playe...</td>\n",
       "    </tr>\n",
       "  </tbody>\n",
       "</table>\n",
       "</div>"
      ],
      "text/plain": [
       "  label                                        sms_message\n",
       "0   ham                                Where to get those?\n",
       "1   ham                 K go and sleep well. Take rest:-).\n",
       "2  spam  22 days to kick off! For Euro2004 U will be ke...\n",
       "3   ham            When i have stuff to sell i.ll tell you\n",
       "4  spam  Sunshine Quiz Wkly Q! Win a top Sony DVD playe..."
      ]
     },
     "execution_count": 74,
     "metadata": {},
     "output_type": "execute_result"
    }
   ],
   "source": [
    "df.rename(columns={0: 'label', 1:'sms_message'}, inplace=True)\n",
    "df.head()"
   ]
  },
  {
   "cell_type": "code",
   "execution_count": 75,
   "id": "e8ab4241-9e8d-4e8a-8efb-ffe9759fcbb2",
   "metadata": {
    "tags": []
   },
   "outputs": [
    {
     "data": {
      "text/html": [
       "<div>\n",
       "<style scoped>\n",
       "    .dataframe tbody tr th:only-of-type {\n",
       "        vertical-align: middle;\n",
       "    }\n",
       "\n",
       "    .dataframe tbody tr th {\n",
       "        vertical-align: top;\n",
       "    }\n",
       "\n",
       "    .dataframe thead th {\n",
       "        text-align: right;\n",
       "    }\n",
       "</style>\n",
       "<table border=\"1\" class=\"dataframe\">\n",
       "  <thead>\n",
       "    <tr style=\"text-align: right;\">\n",
       "      <th></th>\n",
       "      <th>label</th>\n",
       "      <th>sms_message</th>\n",
       "    </tr>\n",
       "  </thead>\n",
       "  <tbody>\n",
       "    <tr>\n",
       "      <th>0</th>\n",
       "      <td>0</td>\n",
       "      <td>Where to get those?</td>\n",
       "    </tr>\n",
       "    <tr>\n",
       "      <th>1</th>\n",
       "      <td>0</td>\n",
       "      <td>K go and sleep well. Take rest:-).</td>\n",
       "    </tr>\n",
       "    <tr>\n",
       "      <th>2</th>\n",
       "      <td>1</td>\n",
       "      <td>22 days to kick off! For Euro2004 U will be ke...</td>\n",
       "    </tr>\n",
       "    <tr>\n",
       "      <th>3</th>\n",
       "      <td>0</td>\n",
       "      <td>When i have stuff to sell i.ll tell you</td>\n",
       "    </tr>\n",
       "    <tr>\n",
       "      <th>4</th>\n",
       "      <td>1</td>\n",
       "      <td>Sunshine Quiz Wkly Q! Win a top Sony DVD playe...</td>\n",
       "    </tr>\n",
       "  </tbody>\n",
       "</table>\n",
       "</div>"
      ],
      "text/plain": [
       "   label                                        sms_message\n",
       "0      0                                Where to get those?\n",
       "1      0                 K go and sleep well. Take rest:-).\n",
       "2      1  22 days to kick off! For Euro2004 U will be ke...\n",
       "3      0            When i have stuff to sell i.ll tell you\n",
       "4      1  Sunshine Quiz Wkly Q! Win a top Sony DVD playe..."
      ]
     },
     "execution_count": 75,
     "metadata": {},
     "output_type": "execute_result"
    }
   ],
   "source": [
    "df['label'] = df['label'].replace('ham',0)\n",
    "df['label'] = df['label'].replace('spam',1)\n",
    "df.head()"
   ]
  },
  {
   "cell_type": "code",
   "execution_count": 76,
   "id": "48c20a90-7e90-4e4d-9089-00707cf04964",
   "metadata": {
    "tags": []
   },
   "outputs": [
    {
     "data": {
      "text/plain": [
       "4281                        I meant middle left or right?\n",
       "585     Urgent! Please call 09061743811 from landline....\n",
       "4545                     Yeah, we got one lined up for us\n",
       "3034    You have won a guaranteed £200 award or even £...\n",
       "2758    Can come my room but cannot come my house cos ...\n",
       "Name: sms_message, dtype: object"
      ]
     },
     "execution_count": 76,
     "metadata": {},
     "output_type": "execute_result"
    }
   ],
   "source": [
    "X_train_sms, X_test_sms, Y_train, Y_test = train_test_split(df['sms_message'], df['label'], random_state =42)\n",
    "\n",
    "X_train_sms.head()"
   ]
  },
  {
   "cell_type": "code",
   "execution_count": 77,
   "id": "c9fc8885-4694-4738-9199-29e1ef3d07cc",
   "metadata": {
    "tags": []
   },
   "outputs": [],
   "source": [
    "count_vector = CountVectorizer(ngram_range = (1,1), lowercase = True, stop_words = 'english')"
   ]
  },
  {
   "cell_type": "code",
   "execution_count": 78,
   "id": "6addfaeb-f496-4107-b294-f03f4caa9770",
   "metadata": {
    "tags": []
   },
   "outputs": [],
   "source": [
    "X_train = count_vector.fit_transform(X_train_sms).toarray()\n",
    "X_test = count_vector.transform(X_test_sms).toarray()"
   ]
  },
  {
   "cell_type": "code",
   "execution_count": 79,
   "id": "8f1f7fca-07c8-4874-b65a-f14b4b321a5b",
   "metadata": {
    "tags": []
   },
   "outputs": [
    {
     "name": "stdout",
     "output_type": "stream",
     "text": [
      "['00' '000' '000pes' ... 'zoom' 'ú1' '〨ud']\n"
     ]
    }
   ],
   "source": [
    "X_train_feature_list = count_vector.get_feature_names_out()\n",
    "print(X_train_feature_list)"
   ]
  },
  {
   "cell_type": "code",
   "execution_count": 80,
   "id": "a307f63d-f31d-4a47-b990-5950ad0bedc8",
   "metadata": {
    "tags": []
   },
   "outputs": [
    {
     "data": {
      "text/html": [
       "<div>\n",
       "<style scoped>\n",
       "    .dataframe tbody tr th:only-of-type {\n",
       "        vertical-align: middle;\n",
       "    }\n",
       "\n",
       "    .dataframe tbody tr th {\n",
       "        vertical-align: top;\n",
       "    }\n",
       "\n",
       "    .dataframe thead th {\n",
       "        text-align: right;\n",
       "    }\n",
       "</style>\n",
       "<table border=\"1\" class=\"dataframe\">\n",
       "  <thead>\n",
       "    <tr style=\"text-align: right;\">\n",
       "      <th></th>\n",
       "      <th>00</th>\n",
       "      <th>000</th>\n",
       "      <th>000pes</th>\n",
       "      <th>008704050406</th>\n",
       "      <th>0089</th>\n",
       "      <th>0121</th>\n",
       "      <th>01223585334</th>\n",
       "      <th>02</th>\n",
       "      <th>0207</th>\n",
       "      <th>02072069400</th>\n",
       "      <th>...</th>\n",
       "      <th>zaher</th>\n",
       "      <th>zealand</th>\n",
       "      <th>zebra</th>\n",
       "      <th>zed</th>\n",
       "      <th>zhong</th>\n",
       "      <th>zoe</th>\n",
       "      <th>zogtorius</th>\n",
       "      <th>zoom</th>\n",
       "      <th>ú1</th>\n",
       "      <th>〨ud</th>\n",
       "    </tr>\n",
       "  </thead>\n",
       "  <tbody>\n",
       "    <tr>\n",
       "      <th>0</th>\n",
       "      <td>0</td>\n",
       "      <td>0</td>\n",
       "      <td>0</td>\n",
       "      <td>0</td>\n",
       "      <td>0</td>\n",
       "      <td>0</td>\n",
       "      <td>0</td>\n",
       "      <td>0</td>\n",
       "      <td>0</td>\n",
       "      <td>0</td>\n",
       "      <td>...</td>\n",
       "      <td>0</td>\n",
       "      <td>0</td>\n",
       "      <td>0</td>\n",
       "      <td>0</td>\n",
       "      <td>0</td>\n",
       "      <td>0</td>\n",
       "      <td>0</td>\n",
       "      <td>0</td>\n",
       "      <td>0</td>\n",
       "      <td>0</td>\n",
       "    </tr>\n",
       "    <tr>\n",
       "      <th>1</th>\n",
       "      <td>0</td>\n",
       "      <td>0</td>\n",
       "      <td>0</td>\n",
       "      <td>0</td>\n",
       "      <td>0</td>\n",
       "      <td>0</td>\n",
       "      <td>0</td>\n",
       "      <td>0</td>\n",
       "      <td>0</td>\n",
       "      <td>0</td>\n",
       "      <td>...</td>\n",
       "      <td>0</td>\n",
       "      <td>0</td>\n",
       "      <td>0</td>\n",
       "      <td>0</td>\n",
       "      <td>0</td>\n",
       "      <td>0</td>\n",
       "      <td>0</td>\n",
       "      <td>0</td>\n",
       "      <td>0</td>\n",
       "      <td>0</td>\n",
       "    </tr>\n",
       "    <tr>\n",
       "      <th>2</th>\n",
       "      <td>0</td>\n",
       "      <td>0</td>\n",
       "      <td>0</td>\n",
       "      <td>0</td>\n",
       "      <td>0</td>\n",
       "      <td>0</td>\n",
       "      <td>0</td>\n",
       "      <td>0</td>\n",
       "      <td>0</td>\n",
       "      <td>0</td>\n",
       "      <td>...</td>\n",
       "      <td>0</td>\n",
       "      <td>0</td>\n",
       "      <td>0</td>\n",
       "      <td>0</td>\n",
       "      <td>0</td>\n",
       "      <td>0</td>\n",
       "      <td>0</td>\n",
       "      <td>0</td>\n",
       "      <td>0</td>\n",
       "      <td>0</td>\n",
       "    </tr>\n",
       "    <tr>\n",
       "      <th>3</th>\n",
       "      <td>0</td>\n",
       "      <td>0</td>\n",
       "      <td>0</td>\n",
       "      <td>0</td>\n",
       "      <td>0</td>\n",
       "      <td>0</td>\n",
       "      <td>0</td>\n",
       "      <td>0</td>\n",
       "      <td>0</td>\n",
       "      <td>0</td>\n",
       "      <td>...</td>\n",
       "      <td>0</td>\n",
       "      <td>0</td>\n",
       "      <td>0</td>\n",
       "      <td>0</td>\n",
       "      <td>0</td>\n",
       "      <td>0</td>\n",
       "      <td>0</td>\n",
       "      <td>0</td>\n",
       "      <td>0</td>\n",
       "      <td>0</td>\n",
       "    </tr>\n",
       "    <tr>\n",
       "      <th>4</th>\n",
       "      <td>0</td>\n",
       "      <td>0</td>\n",
       "      <td>0</td>\n",
       "      <td>0</td>\n",
       "      <td>0</td>\n",
       "      <td>0</td>\n",
       "      <td>0</td>\n",
       "      <td>0</td>\n",
       "      <td>0</td>\n",
       "      <td>0</td>\n",
       "      <td>...</td>\n",
       "      <td>0</td>\n",
       "      <td>0</td>\n",
       "      <td>0</td>\n",
       "      <td>0</td>\n",
       "      <td>0</td>\n",
       "      <td>0</td>\n",
       "      <td>0</td>\n",
       "      <td>0</td>\n",
       "      <td>0</td>\n",
       "      <td>0</td>\n",
       "    </tr>\n",
       "  </tbody>\n",
       "</table>\n",
       "<p>5 rows × 7250 columns</p>\n",
       "</div>"
      ],
      "text/plain": [
       "   00  000  000pes  008704050406  0089  0121  01223585334  02  0207  \\\n",
       "0   0    0       0             0     0     0            0   0     0   \n",
       "1   0    0       0             0     0     0            0   0     0   \n",
       "2   0    0       0             0     0     0            0   0     0   \n",
       "3   0    0       0             0     0     0            0   0     0   \n",
       "4   0    0       0             0     0     0            0   0     0   \n",
       "\n",
       "   02072069400  ...  zaher  zealand  zebra  zed  zhong  zoe  zogtorius  zoom  \\\n",
       "0            0  ...      0        0      0    0      0    0          0     0   \n",
       "1            0  ...      0        0      0    0      0    0          0     0   \n",
       "2            0  ...      0        0      0    0      0    0          0     0   \n",
       "3            0  ...      0        0      0    0      0    0          0     0   \n",
       "4            0  ...      0        0      0    0      0    0          0     0   \n",
       "\n",
       "   ú1  〨ud  \n",
       "0   0    0  \n",
       "1   0    0  \n",
       "2   0    0  \n",
       "3   0    0  \n",
       "4   0    0  \n",
       "\n",
       "[5 rows x 7250 columns]"
      ]
     },
     "execution_count": 80,
     "metadata": {},
     "output_type": "execute_result"
    }
   ],
   "source": [
    "frequencey_matrix_X_train = pd.DataFrame(X_train, columns = X_train_feature_list)\n",
    "frequencey_matrix_X_train.head()"
   ]
  },
  {
   "cell_type": "code",
   "execution_count": 81,
   "id": "fce969ae-dcd0-414a-9c1e-8f6bb3f17a04",
   "metadata": {
    "tags": []
   },
   "outputs": [
    {
     "data": {
      "text/html": [
       "<style>#sk-container-id-2 {color: black;}#sk-container-id-2 pre{padding: 0;}#sk-container-id-2 div.sk-toggleable {background-color: white;}#sk-container-id-2 label.sk-toggleable__label {cursor: pointer;display: block;width: 100%;margin-bottom: 0;padding: 0.3em;box-sizing: border-box;text-align: center;}#sk-container-id-2 label.sk-toggleable__label-arrow:before {content: \"▸\";float: left;margin-right: 0.25em;color: #696969;}#sk-container-id-2 label.sk-toggleable__label-arrow:hover:before {color: black;}#sk-container-id-2 div.sk-estimator:hover label.sk-toggleable__label-arrow:before {color: black;}#sk-container-id-2 div.sk-toggleable__content {max-height: 0;max-width: 0;overflow: hidden;text-align: left;background-color: #f0f8ff;}#sk-container-id-2 div.sk-toggleable__content pre {margin: 0.2em;color: black;border-radius: 0.25em;background-color: #f0f8ff;}#sk-container-id-2 input.sk-toggleable__control:checked~div.sk-toggleable__content {max-height: 200px;max-width: 100%;overflow: auto;}#sk-container-id-2 input.sk-toggleable__control:checked~label.sk-toggleable__label-arrow:before {content: \"▾\";}#sk-container-id-2 div.sk-estimator input.sk-toggleable__control:checked~label.sk-toggleable__label {background-color: #d4ebff;}#sk-container-id-2 div.sk-label input.sk-toggleable__control:checked~label.sk-toggleable__label {background-color: #d4ebff;}#sk-container-id-2 input.sk-hidden--visually {border: 0;clip: rect(1px 1px 1px 1px);clip: rect(1px, 1px, 1px, 1px);height: 1px;margin: -1px;overflow: hidden;padding: 0;position: absolute;width: 1px;}#sk-container-id-2 div.sk-estimator {font-family: monospace;background-color: #f0f8ff;border: 1px dotted black;border-radius: 0.25em;box-sizing: border-box;margin-bottom: 0.5em;}#sk-container-id-2 div.sk-estimator:hover {background-color: #d4ebff;}#sk-container-id-2 div.sk-parallel-item::after {content: \"\";width: 100%;border-bottom: 1px solid gray;flex-grow: 1;}#sk-container-id-2 div.sk-label:hover label.sk-toggleable__label {background-color: #d4ebff;}#sk-container-id-2 div.sk-serial::before {content: \"\";position: absolute;border-left: 1px solid gray;box-sizing: border-box;top: 0;bottom: 0;left: 50%;z-index: 0;}#sk-container-id-2 div.sk-serial {display: flex;flex-direction: column;align-items: center;background-color: white;padding-right: 0.2em;padding-left: 0.2em;position: relative;}#sk-container-id-2 div.sk-item {position: relative;z-index: 1;}#sk-container-id-2 div.sk-parallel {display: flex;align-items: stretch;justify-content: center;background-color: white;position: relative;}#sk-container-id-2 div.sk-item::before, #sk-container-id-2 div.sk-parallel-item::before {content: \"\";position: absolute;border-left: 1px solid gray;box-sizing: border-box;top: 0;bottom: 0;left: 50%;z-index: -1;}#sk-container-id-2 div.sk-parallel-item {display: flex;flex-direction: column;z-index: 1;position: relative;background-color: white;}#sk-container-id-2 div.sk-parallel-item:first-child::after {align-self: flex-end;width: 50%;}#sk-container-id-2 div.sk-parallel-item:last-child::after {align-self: flex-start;width: 50%;}#sk-container-id-2 div.sk-parallel-item:only-child::after {width: 0;}#sk-container-id-2 div.sk-dashed-wrapped {border: 1px dashed gray;margin: 0 0.4em 0.5em 0.4em;box-sizing: border-box;padding-bottom: 0.4em;background-color: white;}#sk-container-id-2 div.sk-label label {font-family: monospace;font-weight: bold;display: inline-block;line-height: 1.2em;}#sk-container-id-2 div.sk-label-container {text-align: center;}#sk-container-id-2 div.sk-container {/* jupyter's `normalize.less` sets `[hidden] { display: none; }` but bootstrap.min.css set `[hidden] { display: none !important; }` so we also need the `!important` here to be able to override the default hidden behavior on the sphinx rendered scikit-learn.org. See: https://github.com/scikit-learn/scikit-learn/issues/21755 */display: inline-block !important;position: relative;}#sk-container-id-2 div.sk-text-repr-fallback {display: none;}</style><div id=\"sk-container-id-2\" class=\"sk-top-container\"><div class=\"sk-text-repr-fallback\"><pre>MultinomialNB()</pre><b>In a Jupyter environment, please rerun this cell to show the HTML representation or trust the notebook. <br />On GitHub, the HTML representation is unable to render, please try loading this page with nbviewer.org.</b></div><div class=\"sk-container\" hidden><div class=\"sk-item\"><div class=\"sk-estimator sk-toggleable\"><input class=\"sk-toggleable__control sk-hidden--visually\" id=\"sk-estimator-id-2\" type=\"checkbox\" checked><label for=\"sk-estimator-id-2\" class=\"sk-toggleable__label sk-toggleable__label-arrow\">MultinomialNB</label><div class=\"sk-toggleable__content\"><pre>MultinomialNB()</pre></div></div></div></div></div>"
      ],
      "text/plain": [
       "MultinomialNB()"
      ]
     },
     "execution_count": 81,
     "metadata": {},
     "output_type": "execute_result"
    }
   ],
   "source": [
    "MNB = MultinomialNB()\n",
    "MNB.fit(X_train,Y_train)"
   ]
  },
  {
   "cell_type": "code",
   "execution_count": 82,
   "id": "e79ed22b-05ab-4c35-bc20-ff526b0f61f7",
   "metadata": {
    "tags": []
   },
   "outputs": [],
   "source": [
    "predictions = MNB.predict(X_test)"
   ]
  },
  {
   "cell_type": "code",
   "execution_count": 83,
   "id": "763039cb-7cf1-4557-98c8-ee2798b9da70",
   "metadata": {
    "tags": []
   },
   "outputs": [
    {
     "data": {
      "text/plain": [
       "0.9863603732950467"
      ]
     },
     "execution_count": 83,
     "metadata": {},
     "output_type": "execute_result"
    }
   ],
   "source": [
    "accuracy_score(predictions,Y_test)"
   ]
  },
  {
   "cell_type": "code",
   "execution_count": 84,
   "id": "28df6a98-8ab1-4a41-b384-ba022373df98",
   "metadata": {
    "tags": []
   },
   "outputs": [
    {
     "data": {
      "text/plain": [
       "0.9385474860335196"
      ]
     },
     "execution_count": 84,
     "metadata": {},
     "output_type": "execute_result"
    }
   ],
   "source": [
    "precision_score(predictions, Y_test)"
   ]
  },
  {
   "cell_type": "code",
   "execution_count": 85,
   "id": "919240fb-f7bf-4a60-a565-aceb674396ad",
   "metadata": {
    "tags": []
   },
   "outputs": [
    {
     "data": {
      "image/png": "[encoded data removed]",
      "text/plain": [
       "<Figure size 800x800 with 1 Axes>"
      ]
     },
     "metadata": {},
     "output_type": "display_data"
    }
   ],
   "source": [
    "spam_words = ' '.join(X_train_sms[Y_train == 1])\n",
    "wordcloud = WordCloud( max_words=150).generate(spam_words)\n",
    "plt.figure(figsize=(8, 8), facecolor=None)\n",
    "plt.imshow(wordcloud)\n",
    "plt.axis(\"off\")\n",
    "plt.tight_layout(pad=0)\n",
    "plt.show()"
   ]
  },
  {
   "cell_type": "code",
   "execution_count": 86,
   "id": "2489b8c4-3db3-445e-90b9-8f7d3043b7ef",
   "metadata": {
    "tags": []
   },
   "outputs": [
    {
     "data": {
      "image/png": "[encoded data removed]",
      "text/plain": [
       "<Figure size 640x480 with 1 Axes>"
      ]
     },
     "metadata": {},
     "output_type": "display_data"
    }
   ],
   "source": [
    "\n",
    "\n",
    "SVM = SVC(kernel = 'rbf')\n",
    "RF = RandomForestClassifier()\n",
    "P = Perceptron(random_state = 42)\n",
    "\n",
    "\n",
    "X_train_sms, X_test_sms, Y_train, Y_test = train_test_split(df['sms_message'], df['label'], test_size = 0.5, random_state =42)\n",
    "X_train = count_vector.fit_transform(X_train_sms).toarray()\n",
    "X_test = count_vector.transform(X_test_sms).toarray()\n",
    "MNB.fit(X_train,Y_train)\n",
    "SVM.fit(X_train, Y_train)\n",
    "RF.fit(X_train, Y_train)\n",
    "P.fit(X_train,Y_train)\n",
    "\n",
    "\n",
    "NB_accuracy = accuracy_score(MNB.predict(X_test), Y_test)\n",
    "NB_precision = precision_score(MNB.predict(X_test), Y_test)\n",
    "SVM_accuracy= accuracy_score(SVM.predict(X_test), Y_test)\n",
    "SVM_precision = precision_score(SVM.predict(X_test), Y_test)\n",
    "Random_Forest_accuracy =accuracy_score(RF.predict(X_test), Y_test)\n",
    "Random_Forest_precision = precision_score(RF.predict(X_test), Y_test)\n",
    "P_accuracy =accuracy_score(P.predict(X_test), Y_test)\n",
    "P_precision = precision_score(P.predict(X_test), Y_test)\n",
    "\n",
    "\n",
    "X = ['NaiveBayes', 'SVM', 'Random Forest', 'Perceptron']\n",
    "Yaccuracy = [NB_accuracy, SVM_accuracy, Random_Forest_accuracy, P_accuracy]\n",
    "Zprecision = [NB_precision, SVM_precision, Random_Forest_precision, P_precision]\n",
    "X_axis = np.arange(len(X))\n",
    "plt.bar(X_axis - 0.2, Yaccuracy, 0.4, label = 'Accuracy')\n",
    "plt.bar(X_axis + 0.2, Zprecision, 0.4, label = 'Precision')\n",
    "\n",
    "  \n",
    "plt.xticks(X_axis, X)\n",
    "plt.xlabel(\"Classifiers\")\n",
    "\n",
    "plt.title(\"Accuracy and Precision Across Different Classifiers For Test Size 0.5\")\n",
    "plt.legend()\n",
    "plt.show()\n"
   ]
  },
  {
   "cell_type": "code",
   "execution_count": 87,
   "id": "03852c53-f5e1-4a90-9714-6185487f4463",
   "metadata": {
    "tags": []
   },
   "outputs": [
    {
     "data": {
      "image/png": "[encoded data removed]",
      "text/plain": [
       "<Figure size 640x480 with 1 Axes>"
      ]
     },
     "metadata": {},
     "output_type": "display_data"
    }
   ],
   "source": [
    "X_train_sms, X_test_sms, Y_train, Y_test = train_test_split(df['sms_message'], df['label'], test_size = 0.25, random_state =42)\n",
    "X_train = count_vector.fit_transform(X_train_sms).toarray()\n",
    "X_test = count_vector.transform(X_test_sms).toarray()\n",
    "MNB.fit(X_train,Y_train)\n",
    "SVM.fit(X_train, Y_train)\n",
    "RF.fit(X_train, Y_train)\n",
    "P.fit(X_train,Y_train)\n",
    "\n",
    "\n",
    "NB_accuracy = accuracy_score(MNB.predict(X_test), Y_test)\n",
    "NB_precision = precision_score(MNB.predict(X_test), Y_test)\n",
    "SVM_accuracy= accuracy_score(SVM.predict(X_test), Y_test)\n",
    "SVM_precision = precision_score(SVM.predict(X_test), Y_test)\n",
    "Random_Forest_accuracy =accuracy_score(RF.predict(X_test), Y_test)\n",
    "Random_Forest_precision = precision_score(RF.predict(X_test), Y_test)\n",
    "P_accuracy =accuracy_score(P.predict(X_test), Y_test)\n",
    "P_precision = precision_score(P.predict(X_test), Y_test)\n",
    "\n",
    "\n",
    "X = ['NaiveBayes', 'SVM', 'Random Forest', 'Perceptron']\n",
    "Yaccuracy = [NB_accuracy, SVM_accuracy, Random_Forest_accuracy, P_accuracy]\n",
    "Zprecision = [NB_precision, SVM_precision, Random_Forest_precision, P_precision]\n",
    "X_axis = np.arange(len(X))\n",
    "plt.bar(X_axis - 0.2, Yaccuracy, 0.4, label = 'Accuracy')\n",
    "plt.bar(X_axis + 0.2, Zprecision, 0.4, label = 'Precision')\n",
    "\n",
    "  \n",
    "plt.xticks(X_axis, X)\n",
    "plt.xlabel(\"Classifiers\")\n",
    "\n",
    "plt.title(\"Accuracy and Precision Across Different Classifiers For Test Size 0.25\")\n",
    "plt.legend()\n",
    "plt.show()"
   ]
  },
  {
   "cell_type": "code",
   "execution_count": 88,
   "id": "88e75343-8d2b-41e0-b5cd-a3aff0d56caa",
   "metadata": {
    "tags": []
   },
   "outputs": [
    {
     "data": {
      "image/png": "[encoded data removed]",
      "text/plain": [
       "<Figure size 640x480 with 1 Axes>"
      ]
     },
     "metadata": {},
     "output_type": "display_data"
    }
   ],
   "source": [
    "X_train_sms, X_test_sms, Y_train, Y_test = train_test_split(df['sms_message'], df['label'], test_size = 0.75, random_state =42)\n",
    "X_train = count_vector.fit_transform(X_train_sms).toarray()\n",
    "X_test = count_vector.transform(X_test_sms).toarray()\n",
    "MNB.fit(X_train,Y_train)\n",
    "SVM.fit(X_train, Y_train)\n",
    "RF.fit(X_train, Y_train)\n",
    "P.fit(X_train,Y_train)\n",
    "\n",
    "\n",
    "NB_accuracy = accuracy_score(MNB.predict(X_test), Y_test)\n",
    "NB_precision = precision_score(MNB.predict(X_test), Y_test)\n",
    "SVM_accuracy= accuracy_score(SVM.predict(X_test), Y_test)\n",
    "SVM_precision = precision_score(SVM.predict(X_test), Y_test)\n",
    "Random_Forest_accuracy =accuracy_score(RF.predict(X_test), Y_test)\n",
    "Random_Forest_precision = precision_score(RF.predict(X_test), Y_test)\n",
    "P_accuracy =accuracy_score(P.predict(X_test), Y_test)\n",
    "P_precision = precision_score(P.predict(X_test), Y_test)\n",
    "\n",
    "\n",
    "X = ['NaiveBayes', 'SVM', 'Random Forest', 'Perceptron']\n",
    "Yaccuracy = [NB_accuracy, SVM_accuracy, Random_Forest_accuracy, P_accuracy]\n",
    "Zprecision = [NB_precision, SVM_precision, Random_Forest_precision, P_precision]\n",
    "X_axis = np.arange(len(X))\n",
    "plt.bar(X_axis - 0.2, Yaccuracy, 0.4, label = 'Accuracy')\n",
    "plt.bar(X_axis + 0.2, Zprecision, 0.4, label = 'Precision')\n",
    "\n",
    "  \n",
    "plt.xticks(X_axis, X)\n",
    "plt.xlabel(\"Classifiers\")\n",
    "\n",
    "plt.title(\"Accuracy and Precision Across Different Classifiers For Test Size 0.75\")\n",
    "plt.legend()\n",
    "plt.show()"
   ]
  },
  {
   "cell_type": "code",
   "execution_count": 89,
   "id": "8e894b5d-044a-4198-bd18-64bb83d42671",
   "metadata": {
    "tags": []
   },
   "outputs": [],
   "source": [
    "X = count_vector.fit_transform(df['sms_message'])\n",
    "Y = df['label']\n"
   ]
  },
  {
   "cell_type": "code",
   "execution_count": 90,
   "id": "e659452d-f3d6-4648-9868-5c297854e43b",
   "metadata": {
    "tags": []
   },
   "outputs": [],
   "source": [
    "kf = KFold(n_splits = 5)"
   ]
  },
  {
   "cell_type": "code",
   "execution_count": 91,
   "id": "0996fd10-ba19-47bd-aced-0a6a3e2059db",
   "metadata": {
    "tags": []
   },
   "outputs": [
    {
     "name": "stdout",
     "output_type": "stream",
     "text": [
      "Fold 0\n",
      " Accuracy: 0.979372197309417\n",
      " Precision: 0.9444444444444444\n",
      "\n",
      "\n",
      "Fold 1\n",
      " Accuracy: 0.9757847533632287\n",
      " Precision: 0.910828025477707\n",
      "\n",
      "\n",
      "Fold 2\n",
      " Accuracy: 0.9829443447037702\n",
      " Precision: 0.9710982658959537\n",
      "\n",
      "\n",
      "Fold 3\n",
      " Accuracy: 0.9856373429084381\n",
      " Precision: 0.9637681159420289\n",
      "\n",
      "\n",
      "Fold 4\n",
      " Accuracy: 0.9757630161579892\n",
      " Precision: 0.9555555555555556\n",
      "\n",
      "\n",
      " Mean Accuracy: 0.9799003308885686\n",
      " Mean Precision: 0.949138881463138\n"
     ]
    }
   ],
   "source": [
    "accuracy_list = []\n",
    "precision_list = []\n",
    "\n",
    "for i, (train_index, test_index) in enumerate(kf.split(X)):\n",
    "    print(f\"Fold {i}\")\n",
    "\n",
    "    \n",
    "    X_train, X_test = X[train_index], X[test_index]\n",
    "    Y_train, Y_test = Y[train_index], Y[test_index]\n",
    "    MNB.fit(X_train,Y_train)\n",
    "    KFPredict = MNB.predict(X_test)\n",
    "    \n",
    "    accuracy = accuracy_score(KFPredict,Y_test)\n",
    "    precision = precision_score(KFPredict,Y_test)\n",
    "    \n",
    "    accuracy_list.append(accuracy)\n",
    "    precision_list.append(precision)\n",
    "    \n",
    "    print(f\" Accuracy: {accuracy}\")\n",
    "    print(f\" Precision: {precision}\")\n",
    "    print(\"\\n\")\n",
    "    \n",
    "\n",
    "mean_accuracy = mean(accuracy_list)\n",
    "mean_precision = mean(precision_list)\n",
    "print(f\" Mean Accuracy: {mean_accuracy}\")\n",
    "print(f\" Mean Precision: {mean_precision}\")"
   ]
  },
  {
   "cell_type": "code",
   "execution_count": 92,
   "id": "b9459166-2f9e-4404-9786-e245d3ab96bc",
   "metadata": {
    "tags": []
   },
   "outputs": [
    {
     "name": "stdout",
     "output_type": "stream",
     "text": [
      "Fold 0\n",
      " Accuracy: 0.9802867383512545\n",
      " Precision: 0.9428571428571428\n",
      "\n",
      "\n",
      "Fold 1\n",
      " Accuracy: 0.982078853046595\n",
      " Precision: 0.9594594594594594\n",
      "\n",
      "\n",
      "Fold 2\n",
      " Accuracy: 0.9802513464991023\n",
      " Precision: 0.9459459459459459\n",
      "\n",
      "\n",
      "Fold 3\n",
      " Accuracy: 0.9694793536804309\n",
      " Precision: 0.8795180722891566\n",
      "\n",
      "\n",
      "Fold 4\n",
      " Accuracy: 0.9712746858168761\n",
      " Precision: 0.946236559139785\n",
      "\n",
      "\n",
      "Fold 5\n",
      " Accuracy: 0.9910233393177738\n",
      " Precision: 1.0\n",
      "\n",
      "\n",
      "Fold 6\n",
      " Accuracy: 0.9856373429084381\n",
      " Precision: 0.975\n",
      "\n",
      "\n",
      "Fold 7\n",
      " Accuracy: 0.9856373429084381\n",
      " Precision: 0.9482758620689655\n",
      "\n",
      "\n",
      "Fold 8\n",
      " Accuracy: 0.9766606822262118\n",
      " Precision: 0.9701492537313433\n",
      "\n",
      "\n",
      "Fold 9\n",
      " Accuracy: 0.9784560143626571\n",
      " Precision: 0.9411764705882353\n",
      "\n",
      "\n",
      " Mean Accuracy: 0.9800785699117778\n",
      " Mean Precision: 0.9508618766080034\n"
     ]
    }
   ],
   "source": [
    "kf = KFold(n_splits = 10)\n",
    "\n",
    "\n",
    "accuracy_list = []\n",
    "precision_list = []\n",
    "\n",
    "for i, (train_index, test_index) in enumerate(kf.split(X)):\n",
    "    print(f\"Fold {i}\")\n",
    " \n",
    "    \n",
    "    X_train, X_test = X[train_index], X[test_index]\n",
    "    Y_train, Y_test = Y[train_index], Y[test_index]\n",
    "    MNB.fit(X_train,Y_train)\n",
    "    KFPredict = MNB.predict(X_test)\n",
    "    \n",
    "    accuracy = accuracy_score(KFPredict,Y_test)\n",
    "    precision = precision_score(KFPredict,Y_test)\n",
    "    \n",
    "    accuracy_list.append(accuracy)\n",
    "    precision_list.append(precision)\n",
    "    \n",
    "    print(f\" Accuracy: {accuracy}\")\n",
    "    print(f\" Precision: {precision}\")\n",
    "    print(\"\\n\")\n",
    "  \n",
    "\n",
    "mean_accuracy = mean(accuracy_list)\n",
    "mean_precision = mean(precision_list)\n",
    "print(f\" Mean Accuracy: {mean_accuracy}\")\n",
    "print(f\" Mean Precision: {mean_precision}\")"
   ]
  },
  {
   "cell_type": "code",
   "execution_count": 93,
   "id": "f60367ad-6701-49fc-b1f2-2e8d304a0193",
   "metadata": {
    "tags": []
   },
   "outputs": [
    {
     "name": "stdout",
     "output_type": "stream",
     "text": [
      "Fold 0\n",
      " Accuracy: 0.97847533632287\n",
      " Precision: 0.9662162162162162\n",
      "\n",
      "\n",
      "Fold 1\n",
      " Accuracy: 0.9775784753363229\n",
      " Precision: 0.9166666666666666\n",
      "\n",
      "\n",
      "Fold 2\n",
      " Accuracy: 0.9766606822262118\n",
      " Precision: 0.9430379746835443\n",
      "\n",
      "\n",
      "Fold 3\n",
      " Accuracy: 0.9838420107719928\n",
      " Precision: 0.9926470588235294\n",
      "\n",
      "\n",
      "Fold 4\n",
      " Accuracy: 0.981149012567325\n",
      " Precision: 0.9395973154362416\n",
      "\n",
      "\n",
      " Mean Accuracy: 0.9795411034449445\n",
      " Mean Precision: 0.9516330463652396\n"
     ]
    }
   ],
   "source": [
    "kf = KFold(n_splits = 5, shuffle = True, random_state = 42)\n",
    "\n",
    "\n",
    "accuracy_list = []\n",
    "precision_list = []\n",
    "\n",
    "for i, (train_index, test_index) in enumerate(kf.split(X)):\n",
    "    print(f\"Fold {i}\")\n",
    "   \n",
    "    \n",
    "    X_train, X_test = X[train_index], X[test_index]\n",
    "    Y_train, Y_test = Y[train_index], Y[test_index]\n",
    "    MNB.fit(X_train,Y_train)\n",
    "    KFPredict = MNB.predict(X_test)\n",
    "    \n",
    "    accuracy = accuracy_score(KFPredict,Y_test)\n",
    "    precision = precision_score(KFPredict,Y_test)\n",
    "    \n",
    "    accuracy_list.append(accuracy)\n",
    "    precision_list.append(precision)\n",
    "    \n",
    "    print(f\" Accuracy: {accuracy}\")\n",
    "    print(f\" Precision: {precision}\")\n",
    "    print(\"\\n\")\n",
    "   \n",
    "\n",
    "mean_accuracy = mean(accuracy_list)\n",
    "mean_precision = mean(precision_list)\n",
    "print(f\" Mean Accuracy: {mean_accuracy}\")\n",
    "print(f\" Mean Precision: {mean_precision}\")"
   ]
  },
  {
   "cell_type": "code",
   "execution_count": 94,
   "id": "c7dc7f86-7889-434f-bd9b-06b71693f1b7",
   "metadata": {
    "tags": []
   },
   "outputs": [
    {
     "name": "stdout",
     "output_type": "stream",
     "text": [
      "Fold 0\n",
      " Accuracy: 0.9767025089605734\n",
      " Precision: 0.963855421686747\n",
      "\n",
      "\n",
      "Fold 1\n",
      " Accuracy: 0.982078853046595\n",
      " Precision: 0.9848484848484849\n",
      "\n",
      "\n",
      "Fold 2\n",
      " Accuracy: 0.9766606822262118\n",
      " Precision: 0.881578947368421\n",
      "\n",
      "\n",
      "Fold 3\n",
      " Accuracy: 0.9712746858168761\n",
      " Precision: 0.9493670886075949\n",
      "\n",
      "\n",
      "Fold 4\n",
      " Accuracy: 0.9910233393177738\n",
      " Precision: 0.9863013698630136\n",
      "\n",
      "\n",
      "Fold 5\n",
      " Accuracy: 0.9640933572710951\n",
      " Precision: 0.9058823529411765\n",
      "\n",
      "\n",
      "Fold 6\n",
      " Accuracy: 0.9748653500897666\n",
      " Precision: 0.9852941176470589\n",
      "\n",
      "\n",
      "Fold 7\n",
      " Accuracy: 0.9910233393177738\n",
      " Precision: 1.0\n",
      "\n",
      "\n",
      "Fold 8\n",
      " Accuracy: 0.9802513464991023\n",
      " Precision: 0.9180327868852459\n",
      "\n",
      "\n",
      "Fold 9\n",
      " Accuracy: 0.9838420107719928\n",
      " Precision: 0.9431818181818182\n",
      "\n",
      "\n",
      " Mean Accuracy: 0.9791815473317761\n",
      " Mean Precision: 0.9518342388029561\n"
     ]
    }
   ],
   "source": [
    "kf = KFold(n_splits = 10, shuffle = True, random_state = 42)\n",
    "\n",
    "\n",
    "accuracy_list = []\n",
    "precision_list = []\n",
    "\n",
    "for i, (train_index, test_index) in enumerate(kf.split(X)):\n",
    "    print(f\"Fold {i}\")\n",
    "   \n",
    "    \n",
    "    X_train, X_test = X[train_index], X[test_index]\n",
    "    Y_train, Y_test = Y[train_index], Y[test_index]\n",
    "    MNB.fit(X_train,Y_train)\n",
    "    KFPredict = MNB.predict(X_test)\n",
    "    \n",
    "    accuracy = accuracy_score(KFPredict,Y_test)\n",
    "    precision = precision_score(KFPredict,Y_test)\n",
    "    \n",
    "    accuracy_list.append(accuracy)\n",
    "    precision_list.append(precision)\n",
    "    \n",
    "    print(f\" Accuracy: {accuracy}\")\n",
    "    print(f\" Precision: {precision}\")\n",
    "    print(\"\\n\")\n",
    " \n",
    "\n",
    "mean_accuracy = mean(accuracy_list)\n",
    "mean_precision = mean(precision_list)\n",
    "print(f\" Mean Accuracy: {mean_accuracy}\")\n",
    "print(f\" Mean Precision: {mean_precision}\")"
   ]
  },
  {
   "cell_type": "code",
   "execution_count": 95,
   "id": "6a23b387-1c42-4f18-96eb-a2c64e8a0279",
   "metadata": {},
   "outputs": [
    {
     "data": {
      "text/html": [
       "<div>\n",
       "<style scoped>\n",
       "    .dataframe tbody tr th:only-of-type {\n",
       "        vertical-align: middle;\n",
       "    }\n",
       "\n",
       "    .dataframe tbody tr th {\n",
       "        vertical-align: top;\n",
       "    }\n",
       "\n",
       "    .dataframe thead th {\n",
       "        text-align: right;\n",
       "    }\n",
       "</style>\n",
       "<table border=\"1\" class=\"dataframe\">\n",
       "  <thead>\n",
       "    <tr style=\"text-align: right;\">\n",
       "      <th></th>\n",
       "      <th>label</th>\n",
       "      <th>email</th>\n",
       "      <th>Unnamed: 2</th>\n",
       "      <th>Unnamed: 3</th>\n",
       "      <th>Unnamed: 4</th>\n",
       "    </tr>\n",
       "  </thead>\n",
       "  <tbody>\n",
       "    <tr>\n",
       "      <th>0</th>\n",
       "      <td>ham</td>\n",
       "      <td>When you came to hostel.</td>\n",
       "      <td>NaN</td>\n",
       "      <td>NaN</td>\n",
       "      <td>NaN</td>\n",
       "    </tr>\n",
       "    <tr>\n",
       "      <th>1</th>\n",
       "      <td>ham</td>\n",
       "      <td>So many people seems to be special at first si...</td>\n",
       "      <td>NaN</td>\n",
       "      <td>NaN</td>\n",
       "      <td>NaN</td>\n",
       "    </tr>\n",
       "    <tr>\n",
       "      <th>2</th>\n",
       "      <td>ham</td>\n",
       "      <td>R we still meeting 4 dinner tonight?</td>\n",
       "      <td>NaN</td>\n",
       "      <td>NaN</td>\n",
       "      <td>NaN</td>\n",
       "    </tr>\n",
       "    <tr>\n",
       "      <th>3</th>\n",
       "      <td>ham</td>\n",
       "      <td>Ok . . now i am in bus. . If i come soon i wil...</td>\n",
       "      <td>NaN</td>\n",
       "      <td>NaN</td>\n",
       "      <td>NaN</td>\n",
       "    </tr>\n",
       "    <tr>\n",
       "      <th>4</th>\n",
       "      <td>ham</td>\n",
       "      <td>O we cant see if we can join denis and mina? O...</td>\n",
       "      <td>NaN</td>\n",
       "      <td>NaN</td>\n",
       "      <td>NaN</td>\n",
       "    </tr>\n",
       "  </tbody>\n",
       "</table>\n",
       "</div>"
      ],
      "text/plain": [
       "  label                                              email Unnamed: 2  \\\n",
       "0   ham                           When you came to hostel.        NaN   \n",
       "1   ham  So many people seems to be special at first si...        NaN   \n",
       "2   ham               R we still meeting 4 dinner tonight?        NaN   \n",
       "3   ham  Ok . . now i am in bus. . If i come soon i wil...        NaN   \n",
       "4   ham  O we cant see if we can join denis and mina? O...        NaN   \n",
       "\n",
       "  Unnamed: 3 Unnamed: 4  \n",
       "0        NaN        NaN  \n",
       "1        NaN        NaN  \n",
       "2        NaN        NaN  \n",
       "3        NaN        NaN  \n",
       "4        NaN        NaN  "
      ]
     },
     "execution_count": 95,
     "metadata": {},
     "output_type": "execute_result"
    }
   ],
   "source": [
    "imbalanced_file_path = \"C:\\\\Users\\\\agrim\\\\Python_Projects\\\\AI_Learning-Research\\\\Spam Classification\\\\imbalanced_spam.csv\"\n",
    "df3 = pd.read_csv(imbalanced_file_path, encoding='latin-1')\n",
    "\n",
    "\n",
    "df3 = df3.reindex(np.random.permutation(df3.index))\n",
    "df3.reset_index(inplace=True, drop=True)\n",
    "df3.head()"
   ]
  },
  {
   "cell_type": "code",
   "execution_count": 96,
   "id": "34de0b56-fbed-4102-9c3b-a3b78ba8d5aa",
   "metadata": {
    "tags": []
   },
   "outputs": [
    {
     "data": {
      "text/html": [
       "<div>\n",
       "<style scoped>\n",
       "    .dataframe tbody tr th:only-of-type {\n",
       "        vertical-align: middle;\n",
       "    }\n",
       "\n",
       "    .dataframe tbody tr th {\n",
       "        vertical-align: top;\n",
       "    }\n",
       "\n",
       "    .dataframe thead th {\n",
       "        text-align: right;\n",
       "    }\n",
       "</style>\n",
       "<table border=\"1\" class=\"dataframe\">\n",
       "  <thead>\n",
       "    <tr style=\"text-align: right;\">\n",
       "      <th></th>\n",
       "      <th>label</th>\n",
       "      <th>email</th>\n",
       "      <th>Unnamed: 2</th>\n",
       "      <th>Unnamed: 3</th>\n",
       "      <th>Unnamed: 4</th>\n",
       "    </tr>\n",
       "  </thead>\n",
       "  <tbody>\n",
       "    <tr>\n",
       "      <th>0</th>\n",
       "      <td>0</td>\n",
       "      <td>When you came to hostel.</td>\n",
       "      <td>NaN</td>\n",
       "      <td>NaN</td>\n",
       "      <td>NaN</td>\n",
       "    </tr>\n",
       "    <tr>\n",
       "      <th>1</th>\n",
       "      <td>0</td>\n",
       "      <td>So many people seems to be special at first si...</td>\n",
       "      <td>NaN</td>\n",
       "      <td>NaN</td>\n",
       "      <td>NaN</td>\n",
       "    </tr>\n",
       "    <tr>\n",
       "      <th>2</th>\n",
       "      <td>0</td>\n",
       "      <td>R we still meeting 4 dinner tonight?</td>\n",
       "      <td>NaN</td>\n",
       "      <td>NaN</td>\n",
       "      <td>NaN</td>\n",
       "    </tr>\n",
       "    <tr>\n",
       "      <th>3</th>\n",
       "      <td>0</td>\n",
       "      <td>Ok . . now i am in bus. . If i come soon i wil...</td>\n",
       "      <td>NaN</td>\n",
       "      <td>NaN</td>\n",
       "      <td>NaN</td>\n",
       "    </tr>\n",
       "    <tr>\n",
       "      <th>4</th>\n",
       "      <td>0</td>\n",
       "      <td>O we cant see if we can join denis and mina? O...</td>\n",
       "      <td>NaN</td>\n",
       "      <td>NaN</td>\n",
       "      <td>NaN</td>\n",
       "    </tr>\n",
       "  </tbody>\n",
       "</table>\n",
       "</div>"
      ],
      "text/plain": [
       "   label                                              email Unnamed: 2  \\\n",
       "0      0                           When you came to hostel.        NaN   \n",
       "1      0  So many people seems to be special at first si...        NaN   \n",
       "2      0               R we still meeting 4 dinner tonight?        NaN   \n",
       "3      0  Ok . . now i am in bus. . If i come soon i wil...        NaN   \n",
       "4      0  O we cant see if we can join denis and mina? O...        NaN   \n",
       "\n",
       "  Unnamed: 3 Unnamed: 4  \n",
       "0        NaN        NaN  \n",
       "1        NaN        NaN  \n",
       "2        NaN        NaN  \n",
       "3        NaN        NaN  \n",
       "4        NaN        NaN  "
      ]
     },
     "execution_count": 96,
     "metadata": {},
     "output_type": "execute_result"
    }
   ],
   "source": [
    "df3['label'] = df3['label'].replace('ham',0)\n",
    "df3['label'] = df3['label'].replace('spam',1)\n",
    "df3.head()"
   ]
  },
  {
   "cell_type": "code",
   "execution_count": 97,
   "id": "f03928da-c1fe-42a5-922a-3a38c4003726",
   "metadata": {
    "tags": []
   },
   "outputs": [
    {
     "data": {
      "image/png": "[encoded data removed]",
      "text/plain": [
       "<Figure size 640x480 with 1 Axes>"
      ]
     },
     "metadata": {},
     "output_type": "display_data"
    }
   ],
   "source": [
    "class_labels = ['ham','spam']\n",
    "class_counts = [4500,500]\n",
    "bar_colors = ['red','blue']\n",
    "plt.bar(class_labels,class_counts)\n",
    "plt.title('Class Distribution in the Dataset')\n",
    "plt.xlabel('Class Labels')\n",
    "plt.ylabel('Number of Samples')\n",
    "\n",
    "plt.show()"
   ]
  },
  {
   "cell_type": "code",
   "execution_count": 98,
   "id": "c3e2b07c-5b2a-4268-b305-fc0fe0c0f092",
   "metadata": {},
   "outputs": [
    {
     "data": {
      "image/png": "[encoded data removed]",
      "text/plain": [
       "<Figure size 640x480 with 1 Axes>"
      ]
     },
     "metadata": {},
     "output_type": "display_data"
    }
   ],
   "source": [
    "X_train_sms, X_test_sms, Y_train, Y_test = train_test_split(df3['email'], df3['label'], test_size = 0.25, random_state =42)\n",
    "X_train = count_vector.fit_transform(X_train_sms).toarray()\n",
    "X_test = count_vector.transform(X_test_sms).toarray()\n",
    "MNB.fit(X_train,Y_train)\n",
    "SVM.fit(X_train, Y_train)\n",
    "RF.fit(X_train, Y_train)\n",
    "P.fit(X_train,Y_train)\n",
    "\n",
    "\n",
    "NB_accuracy = accuracy_score(MNB.predict(X_test), Y_test)\n",
    "NB_precision = precision_score(MNB.predict(X_test), Y_test)\n",
    "SVM_accuracy= accuracy_score(SVM.predict(X_test), Y_test)\n",
    "SVM_precision = precision_score(SVM.predict(X_test), Y_test)\n",
    "Random_Forest_accuracy =accuracy_score(RF.predict(X_test), Y_test)\n",
    "Random_Forest_precision = precision_score(RF.predict(X_test), Y_test)\n",
    "P_accuracy =accuracy_score(P.predict(X_test), Y_test)\n",
    "P_precision = precision_score(P.predict(X_test), Y_test)\n",
    "\n",
    "\n",
    "X = ['NaiveBayes', 'SVM', 'Random Forest', 'Perceptron']\n",
    "Yaccuracy = [NB_accuracy, SVM_accuracy, Random_Forest_accuracy, P_accuracy]\n",
    "Zprecision = [NB_precision, SVM_precision, Random_Forest_precision, P_precision]\n",
    "X_axis = np.arange(len(X))\n",
    "plt.bar(X_axis - 0.2, Yaccuracy, 0.4, label = 'Accuracy')\n",
    "plt.bar(X_axis + 0.2, Zprecision, 0.4, label = 'Precision')\n",
    "\n",
    "  \n",
    "plt.xticks(X_axis, X)\n",
    "plt.xlabel(\"Classifiers\")\n",
    "\n",
    "plt.title(\"Accuracy and Precision for an imbalanced dataset (9:1, Ham:Spam) HAcross Different Classifiers For Test Size 0.25\")\n",
    "plt.legend()\n",
    "plt.show()"
   ]
  },
  {
   "cell_type": "code",
   "execution_count": null,
   "id": "bfc6da70-21ca-4fd1-b5e6-bb29e7333b54",
   "metadata": {},
   "outputs": [],
   "source": [
    "X_train_sms, X_test_sms, Y_train, Y_test = train_test_split(df3['email'], df3['label'], test_size = 0.5, random_state =42)\n",
    "X_train = count_vector.fit_transform(X_train_sms).toarray()\n",
    "X_test = count_vector.transform(X_test_sms).toarray()\n",
    "MNB.fit(X_train,Y_train)\n",
    "SVM.fit(X_train, Y_train)\n",
    "RF.fit(X_train, Y_train)\n",
    "P.fit(X_train,Y_train)\n",
    "\n",
    "\n",
    "NB_accuracy = accuracy_score(MNB.predict(X_test), Y_test)\n",
    "NB_precision = precision_score(MNB.predict(X_test), Y_test)\n",
    "SVM_accuracy= accuracy_score(SVM.predict(X_test), Y_test)\n",
    "SVM_precision = precision_score(SVM.predict(X_test), Y_test)\n",
    "Random_Forest_accuracy =accuracy_score(RF.predict(X_test), Y_test)\n",
    "Random_Forest_precision = precision_score(RF.predict(X_test), Y_test)\n",
    "P_accuracy =accuracy_score(P.predict(X_test), Y_test)\n",
    "P_precision = precision_score(P.predict(X_test), Y_test)\n",
    "\n",
    "\n",
    "X = ['NaiveBayes', 'SVM', 'Random Forest', 'Perceptron']\n",
    "Yaccuracy = [NB_accuracy, SVM_accuracy, Random_Forest_accuracy, P_accuracy]\n",
    "Zprecision = [NB_precision, SVM_precision, Random_Forest_precision, P_precision]\n",
    "X_axis = np.arange(len(X))\n",
    "plt.bar(X_axis - 0.2, Yaccuracy, 0.4, label = 'Accuracy')\n",
    "plt.bar(X_axis + 0.2, Zprecision, 0.4, label = 'Precision')\n",
    "\n",
    "  \n",
    "plt.xticks(X_axis, X)\n",
    "plt.xlabel(\"Classifiers\")\n",
    "\n",
    "plt.title(\"Accuracy and Precision for an imbalanced dataset (9:1 Ham:Spam) Across Different Classifiers For Test Size 0.5\")\n",
    "plt.legend()\n",
    "plt.show()"
   ]
  },
  {
   "cell_type": "code",
   "execution_count": null,
   "id": "b4b0949d-3a69-45a1-ad7c-b691eb7758a9",
   "metadata": {},
   "outputs": [],
   "source": [
    "X_train_sms, X_test_sms, Y_train, Y_test = train_test_split(df3['email'], df3['label'], test_size = 0.75, random_state =42)\n",
    "X_train = count_vector.fit_transform(X_train_sms).toarray()\n",
    "X_test = count_vector.transform(X_test_sms).toarray()\n",
    "MNB.fit(X_train,Y_train)\n",
    "SVM.fit(X_train, Y_train)\n",
    "RF.fit(X_train, Y_train)\n",
    "P.fit(X_train,Y_train)\n",
    "\n",
    "\n",
    "NB_accuracy = accuracy_score(MNB.predict(X_test), Y_test)\n",
    "NB_precision = precision_score(MNB.predict(X_test), Y_test)\n",
    "SVM_accuracy= accuracy_score(SVM.predict(X_test), Y_test)\n",
    "SVM_precision = precision_score(SVM.predict(X_test), Y_test)\n",
    "Random_Forest_accuracy =accuracy_score(RF.predict(X_test), Y_test)\n",
    "Random_Forest_precision = precision_score(RF.predict(X_test), Y_test)\n",
    "P_accuracy =accuracy_score(P.predict(X_test), Y_test)\n",
    "P_precision = precision_score(P.predict(X_test), Y_test)\n",
    "\n",
    "\n",
    "X = ['NaiveBayes', 'SVM', 'Random Forest', 'Perceptron']\n",
    "Yaccuracy = [NB_accuracy, SVM_accuracy, Random_Forest_accuracy, P_accuracy]\n",
    "Zprecision = [NB_precision, SVM_precision, Random_Forest_precision, P_precision]\n",
    "X_axis = np.arange(len(X))\n",
    "plt.bar(X_axis - 0.2, Yaccuracy, 0.4, label = 'Accuracy')\n",
    "plt.bar(X_axis + 0.2, Zprecision, 0.4, label = 'Precision')\n",
    "\n",
    "  \n",
    "plt.xticks(X_axis, X)\n",
    "plt.xlabel(\"Classifiers\")\n",
    "\n",
    "plt.title(\"Accuracy and Precision for an imbalanced dataset (9:1 Ham:Spam) Across Different Classifiers For Test Size 0.75\")\n",
    "plt.legend()\n",
    "plt.show()"
   ]
  }
 ],
 "metadata": {
  "kernelspec": {
   "display_name": "Python 3 (ipykernel)",
   "language": "python",
   "name": "python3"
  },
  "language_info": {
   "codemirror_mode": {
    "name": "ipython",
    "version": 3
   },
   "file_extension": ".py",
   "mimetype": "text/x-python",
   "name": "python",
   "nbconvert_exporter": "python",
   "pygments_lexer": "ipython3",
   "version": "3.11.3"
  }
 },
 "nbformat": 4,
 "nbformat_minor": 5
}
