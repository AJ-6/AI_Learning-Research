{
 "cells": [
  {
   "cell_type": "code",
   "execution_count": 8,
   "id": "b3b546fb-0f4a-4363-8a64-705b7e7e784a",
   "metadata": {
    "tags": []
   },
   "outputs": [],
   "source": [
    "import pandas as pd"
   ]
  },
  {
   "cell_type": "code",
   "execution_count": 9,
   "id": "706ee1ce-c70c-483f-9d88-b8b6ab277edf",
   "metadata": {
    "tags": []
   },
   "outputs": [],
   "source": [
    "from wordcloud import WordCloud"
   ]
  },
  {
   "cell_type": "code",
   "execution_count": 10,
   "id": "49b9bce2-6918-4cb0-b4c9-2c22faa870b0",
   "metadata": {
    "tags": []
   },
   "outputs": [],
   "source": [
    "import numpy as np\n",
    "import matplotlib.pyplot as plt\n",
    "from statistics import *\n",
    "from sklearn.feature_extraction.text import CountVectorizer\n",
    "from sklearn.model_selection import train_test_split\n",
    "from sklearn.naive_bayes import MultinomialNB\n",
    "from sklearn.metrics import *\n",
    "from sklearn.model_selection import KFold\n",
    "from sklearn.svm import SVC\n",
    "from sklearn.ensemble import RandomForestClassifier\n",
    "from sklearn.linear_model import Perceptron"
   ]
  },
  {
   "cell_type": "code",
   "execution_count": 11,
   "id": "2209ba81-d670-48a1-958e-d4ae99ea00e7",
   "metadata": {},
   "outputs": [
    {
     "ename": "FileNotFoundError",
     "evalue": "[Errno 2] No such file or directory: 'C:\\\\Users\\\\agrim\\\\Python_Projects\\\\SMSSpamCollection.txt'",
     "output_type": "error",
     "traceback": [
      "\u001b[1;31m---------------------------------------------------------------------------\u001b[0m",
      "\u001b[1;31mFileNotFoundError\u001b[0m                         Traceback (most recent call last)",
      "Cell \u001b[1;32mIn[11], line 3\u001b[0m\n\u001b[0;32m      1\u001b[0m file_path \u001b[38;5;241m=\u001b[39m \u001b[38;5;124m\"\u001b[39m\u001b[38;5;124mC:\u001b[39m\u001b[38;5;130;01m\\\\\u001b[39;00m\u001b[38;5;124mUsers\u001b[39m\u001b[38;5;130;01m\\\\\u001b[39;00m\u001b[38;5;124magrim\u001b[39m\u001b[38;5;130;01m\\\\\u001b[39;00m\u001b[38;5;124mPython_Projects\u001b[39m\u001b[38;5;130;01m\\\\\u001b[39;00m\u001b[38;5;124mSMSSpamCollection.txt\u001b[39m\u001b[38;5;124m\"\u001b[39m\n\u001b[1;32m----> 3\u001b[0m df \u001b[38;5;241m=\u001b[39m pd\u001b[38;5;241m.\u001b[39mread_table(file_path, sep \u001b[38;5;241m=\u001b[39m \u001b[38;5;124m'\u001b[39m\u001b[38;5;130;01m\\t\u001b[39;00m\u001b[38;5;124m'\u001b[39m, header \u001b[38;5;241m=\u001b[39m \u001b[38;5;28;01mNone\u001b[39;00m)\n",
      "File \u001b[1;32m~\\anaconda3\\Lib\\site-packages\\pandas\\io\\parsers\\readers.py:1242\u001b[0m, in \u001b[0;36mread_table\u001b[1;34m(filepath_or_buffer, sep, delimiter, header, names, index_col, usecols, dtype, engine, converters, true_values, false_values, skipinitialspace, skiprows, skipfooter, nrows, na_values, keep_default_na, na_filter, verbose, skip_blank_lines, parse_dates, infer_datetime_format, keep_date_col, date_parser, date_format, dayfirst, cache_dates, iterator, chunksize, compression, thousands, decimal, lineterminator, quotechar, quoting, doublequote, escapechar, comment, encoding, encoding_errors, dialect, on_bad_lines, delim_whitespace, low_memory, memory_map, float_precision, storage_options, dtype_backend)\u001b[0m\n\u001b[0;32m   1229\u001b[0m kwds_defaults \u001b[38;5;241m=\u001b[39m _refine_defaults_read(\n\u001b[0;32m   1230\u001b[0m     dialect,\n\u001b[0;32m   1231\u001b[0m     delimiter,\n\u001b[1;32m   (...)\u001b[0m\n\u001b[0;32m   1238\u001b[0m     dtype_backend\u001b[38;5;241m=\u001b[39mdtype_backend,\n\u001b[0;32m   1239\u001b[0m )\n\u001b[0;32m   1240\u001b[0m kwds\u001b[38;5;241m.\u001b[39mupdate(kwds_defaults)\n\u001b[1;32m-> 1242\u001b[0m \u001b[38;5;28;01mreturn\u001b[39;00m _read(filepath_or_buffer, kwds)\n",
      "File \u001b[1;32m~\\anaconda3\\Lib\\site-packages\\pandas\\io\\parsers\\readers.py:577\u001b[0m, in \u001b[0;36m_read\u001b[1;34m(filepath_or_buffer, kwds)\u001b[0m\n\u001b[0;32m    574\u001b[0m _validate_names(kwds\u001b[38;5;241m.\u001b[39mget(\u001b[38;5;124m\"\u001b[39m\u001b[38;5;124mnames\u001b[39m\u001b[38;5;124m\"\u001b[39m, \u001b[38;5;28;01mNone\u001b[39;00m))\n\u001b[0;32m    576\u001b[0m \u001b[38;5;66;03m# Create the parser.\u001b[39;00m\n\u001b[1;32m--> 577\u001b[0m parser \u001b[38;5;241m=\u001b[39m TextFileReader(filepath_or_buffer, \u001b[38;5;241m*\u001b[39m\u001b[38;5;241m*\u001b[39mkwds)\n\u001b[0;32m    579\u001b[0m \u001b[38;5;28;01mif\u001b[39;00m chunksize \u001b[38;5;129;01mor\u001b[39;00m iterator:\n\u001b[0;32m    580\u001b[0m     \u001b[38;5;28;01mreturn\u001b[39;00m parser\n",
      "File \u001b[1;32m~\\anaconda3\\Lib\\site-packages\\pandas\\io\\parsers\\readers.py:1407\u001b[0m, in \u001b[0;36mTextFileReader.__init__\u001b[1;34m(self, f, engine, **kwds)\u001b[0m\n\u001b[0;32m   1404\u001b[0m     \u001b[38;5;28mself\u001b[39m\u001b[38;5;241m.\u001b[39moptions[\u001b[38;5;124m\"\u001b[39m\u001b[38;5;124mhas_index_names\u001b[39m\u001b[38;5;124m\"\u001b[39m] \u001b[38;5;241m=\u001b[39m kwds[\u001b[38;5;124m\"\u001b[39m\u001b[38;5;124mhas_index_names\u001b[39m\u001b[38;5;124m\"\u001b[39m]\n\u001b[0;32m   1406\u001b[0m \u001b[38;5;28mself\u001b[39m\u001b[38;5;241m.\u001b[39mhandles: IOHandles \u001b[38;5;241m|\u001b[39m \u001b[38;5;28;01mNone\u001b[39;00m \u001b[38;5;241m=\u001b[39m \u001b[38;5;28;01mNone\u001b[39;00m\n\u001b[1;32m-> 1407\u001b[0m \u001b[38;5;28mself\u001b[39m\u001b[38;5;241m.\u001b[39m_engine \u001b[38;5;241m=\u001b[39m \u001b[38;5;28mself\u001b[39m\u001b[38;5;241m.\u001b[39m_make_engine(f, \u001b[38;5;28mself\u001b[39m\u001b[38;5;241m.\u001b[39mengine)\n",
      "File \u001b[1;32m~\\anaconda3\\Lib\\site-packages\\pandas\\io\\parsers\\readers.py:1661\u001b[0m, in \u001b[0;36mTextFileReader._make_engine\u001b[1;34m(self, f, engine)\u001b[0m\n\u001b[0;32m   1659\u001b[0m     \u001b[38;5;28;01mif\u001b[39;00m \u001b[38;5;124m\"\u001b[39m\u001b[38;5;124mb\u001b[39m\u001b[38;5;124m\"\u001b[39m \u001b[38;5;129;01mnot\u001b[39;00m \u001b[38;5;129;01min\u001b[39;00m mode:\n\u001b[0;32m   1660\u001b[0m         mode \u001b[38;5;241m+\u001b[39m\u001b[38;5;241m=\u001b[39m \u001b[38;5;124m\"\u001b[39m\u001b[38;5;124mb\u001b[39m\u001b[38;5;124m\"\u001b[39m\n\u001b[1;32m-> 1661\u001b[0m \u001b[38;5;28mself\u001b[39m\u001b[38;5;241m.\u001b[39mhandles \u001b[38;5;241m=\u001b[39m get_handle(\n\u001b[0;32m   1662\u001b[0m     f,\n\u001b[0;32m   1663\u001b[0m     mode,\n\u001b[0;32m   1664\u001b[0m     encoding\u001b[38;5;241m=\u001b[39m\u001b[38;5;28mself\u001b[39m\u001b[38;5;241m.\u001b[39moptions\u001b[38;5;241m.\u001b[39mget(\u001b[38;5;124m\"\u001b[39m\u001b[38;5;124mencoding\u001b[39m\u001b[38;5;124m\"\u001b[39m, \u001b[38;5;28;01mNone\u001b[39;00m),\n\u001b[0;32m   1665\u001b[0m     compression\u001b[38;5;241m=\u001b[39m\u001b[38;5;28mself\u001b[39m\u001b[38;5;241m.\u001b[39moptions\u001b[38;5;241m.\u001b[39mget(\u001b[38;5;124m\"\u001b[39m\u001b[38;5;124mcompression\u001b[39m\u001b[38;5;124m\"\u001b[39m, \u001b[38;5;28;01mNone\u001b[39;00m),\n\u001b[0;32m   1666\u001b[0m     memory_map\u001b[38;5;241m=\u001b[39m\u001b[38;5;28mself\u001b[39m\u001b[38;5;241m.\u001b[39moptions\u001b[38;5;241m.\u001b[39mget(\u001b[38;5;124m\"\u001b[39m\u001b[38;5;124mmemory_map\u001b[39m\u001b[38;5;124m\"\u001b[39m, \u001b[38;5;28;01mFalse\u001b[39;00m),\n\u001b[0;32m   1667\u001b[0m     is_text\u001b[38;5;241m=\u001b[39mis_text,\n\u001b[0;32m   1668\u001b[0m     errors\u001b[38;5;241m=\u001b[39m\u001b[38;5;28mself\u001b[39m\u001b[38;5;241m.\u001b[39moptions\u001b[38;5;241m.\u001b[39mget(\u001b[38;5;124m\"\u001b[39m\u001b[38;5;124mencoding_errors\u001b[39m\u001b[38;5;124m\"\u001b[39m, \u001b[38;5;124m\"\u001b[39m\u001b[38;5;124mstrict\u001b[39m\u001b[38;5;124m\"\u001b[39m),\n\u001b[0;32m   1669\u001b[0m     storage_options\u001b[38;5;241m=\u001b[39m\u001b[38;5;28mself\u001b[39m\u001b[38;5;241m.\u001b[39moptions\u001b[38;5;241m.\u001b[39mget(\u001b[38;5;124m\"\u001b[39m\u001b[38;5;124mstorage_options\u001b[39m\u001b[38;5;124m\"\u001b[39m, \u001b[38;5;28;01mNone\u001b[39;00m),\n\u001b[0;32m   1670\u001b[0m )\n\u001b[0;32m   1671\u001b[0m \u001b[38;5;28;01massert\u001b[39;00m \u001b[38;5;28mself\u001b[39m\u001b[38;5;241m.\u001b[39mhandles \u001b[38;5;129;01mis\u001b[39;00m \u001b[38;5;129;01mnot\u001b[39;00m \u001b[38;5;28;01mNone\u001b[39;00m\n\u001b[0;32m   1672\u001b[0m f \u001b[38;5;241m=\u001b[39m \u001b[38;5;28mself\u001b[39m\u001b[38;5;241m.\u001b[39mhandles\u001b[38;5;241m.\u001b[39mhandle\n",
      "File \u001b[1;32m~\\anaconda3\\Lib\\site-packages\\pandas\\io\\common.py:859\u001b[0m, in \u001b[0;36mget_handle\u001b[1;34m(path_or_buf, mode, encoding, compression, memory_map, is_text, errors, storage_options)\u001b[0m\n\u001b[0;32m    854\u001b[0m \u001b[38;5;28;01melif\u001b[39;00m \u001b[38;5;28misinstance\u001b[39m(handle, \u001b[38;5;28mstr\u001b[39m):\n\u001b[0;32m    855\u001b[0m     \u001b[38;5;66;03m# Check whether the filename is to be opened in binary mode.\u001b[39;00m\n\u001b[0;32m    856\u001b[0m     \u001b[38;5;66;03m# Binary mode does not support 'encoding' and 'newline'.\u001b[39;00m\n\u001b[0;32m    857\u001b[0m     \u001b[38;5;28;01mif\u001b[39;00m ioargs\u001b[38;5;241m.\u001b[39mencoding \u001b[38;5;129;01mand\u001b[39;00m \u001b[38;5;124m\"\u001b[39m\u001b[38;5;124mb\u001b[39m\u001b[38;5;124m\"\u001b[39m \u001b[38;5;129;01mnot\u001b[39;00m \u001b[38;5;129;01min\u001b[39;00m ioargs\u001b[38;5;241m.\u001b[39mmode:\n\u001b[0;32m    858\u001b[0m         \u001b[38;5;66;03m# Encoding\u001b[39;00m\n\u001b[1;32m--> 859\u001b[0m         handle \u001b[38;5;241m=\u001b[39m \u001b[38;5;28mopen\u001b[39m(\n\u001b[0;32m    860\u001b[0m             handle,\n\u001b[0;32m    861\u001b[0m             ioargs\u001b[38;5;241m.\u001b[39mmode,\n\u001b[0;32m    862\u001b[0m             encoding\u001b[38;5;241m=\u001b[39mioargs\u001b[38;5;241m.\u001b[39mencoding,\n\u001b[0;32m    863\u001b[0m             errors\u001b[38;5;241m=\u001b[39merrors,\n\u001b[0;32m    864\u001b[0m             newline\u001b[38;5;241m=\u001b[39m\u001b[38;5;124m\"\u001b[39m\u001b[38;5;124m\"\u001b[39m,\n\u001b[0;32m    865\u001b[0m         )\n\u001b[0;32m    866\u001b[0m     \u001b[38;5;28;01melse\u001b[39;00m:\n\u001b[0;32m    867\u001b[0m         \u001b[38;5;66;03m# Binary mode\u001b[39;00m\n\u001b[0;32m    868\u001b[0m         handle \u001b[38;5;241m=\u001b[39m \u001b[38;5;28mopen\u001b[39m(handle, ioargs\u001b[38;5;241m.\u001b[39mmode)\n",
      "\u001b[1;31mFileNotFoundError\u001b[0m: [Errno 2] No such file or directory: 'C:\\\\Users\\\\agrim\\\\Python_Projects\\\\SMSSpamCollection.txt'"
     ]
    }
   ],
   "source": [
    "file_path = \"C:\\\\Users\\\\agrim\\\\Python_Projects\\\\SMSSpamCollection.txt\"\n",
    "\n",
    "df = pd.read_table(file_path, sep = '\\t', header = None)"
   ]
  },
  {
   "cell_type": "code",
   "execution_count": null,
   "id": "a9ada05e-06c1-49b3-8c34-24178ae3679a",
   "metadata": {},
   "outputs": [],
   "source": [
    "df = df.reindex(np.random.permutation(df.index))\n",
    "df.reset_index(inplace=True, drop=True)\n",
    "df.head()"
   ]
  },
  {
   "cell_type": "code",
   "execution_count": null,
   "id": "2b327cb6-c047-4742-bc7d-756df08c4bfe",
   "metadata": {
    "tags": []
   },
   "outputs": [],
   "source": [
    "df.rename(columns={0: 'label', 1:'sms_message'}, inplace=True)\n",
    "df.head()"
   ]
  },
  {
   "cell_type": "code",
   "execution_count": null,
   "id": "e8ab4241-9e8d-4e8a-8efb-ffe9759fcbb2",
   "metadata": {
    "tags": []
   },
   "outputs": [],
   "source": [
    "df['label'] = df['label'].replace('ham',0)\n",
    "df['label'] = df['label'].replace('spam',1)\n",
    "df.head()"
   ]
  },
  {
   "cell_type": "code",
   "execution_count": null,
   "id": "48c20a90-7e90-4e4d-9089-00707cf04964",
   "metadata": {
    "tags": []
   },
   "outputs": [],
   "source": [
    "X_train_sms, X_test_sms, Y_train, Y_test = train_test_split(df['sms_message'], df['label'], random_state =42)\n",
    "\n",
    "X_train_sms.head()"
   ]
  },
  {
   "cell_type": "code",
   "execution_count": null,
   "id": "c9fc8885-4694-4738-9199-29e1ef3d07cc",
   "metadata": {
    "tags": []
   },
   "outputs": [],
   "source": [
    "count_vector = CountVectorizer(ngram_range = (1,1), lowercase = True, stop_words = 'english')"
   ]
  },
  {
   "cell_type": "code",
   "execution_count": null,
   "id": "6addfaeb-f496-4107-b294-f03f4caa9770",
   "metadata": {
    "tags": []
   },
   "outputs": [],
   "source": [
    "X_train = count_vector.fit_transform(X_train_sms).toarray()\n",
    "X_test = count_vector.transform(X_test_sms).toarray()"
   ]
  },
  {
   "cell_type": "code",
   "execution_count": null,
   "id": "8f1f7fca-07c8-4874-b65a-f14b4b321a5b",
   "metadata": {
    "tags": []
   },
   "outputs": [],
   "source": [
    "X_train_feature_list = count_vector.get_feature_names_out()\n",
    "print(X_train_feature_list)"
   ]
  },
  {
   "cell_type": "code",
   "execution_count": null,
   "id": "a307f63d-f31d-4a47-b990-5950ad0bedc8",
   "metadata": {
    "tags": []
   },
   "outputs": [],
   "source": [
    "frequencey_matrix_X_train = pd.DataFrame(X_train, columns = X_train_feature_list)\n",
    "frequencey_matrix_X_train.head()"
   ]
  },
  {
   "cell_type": "code",
   "execution_count": null,
   "id": "fce969ae-dcd0-414a-9c1e-8f6bb3f17a04",
   "metadata": {
    "tags": []
   },
   "outputs": [],
   "source": [
    "MNB = MultinomialNB()\n",
    "MNB.fit(X_train,Y_train)"
   ]
  },
  {
   "cell_type": "code",
   "execution_count": null,
   "id": "e79ed22b-05ab-4c35-bc20-ff526b0f61f7",
   "metadata": {
    "tags": []
   },
   "outputs": [],
   "source": [
    "predictions = MNB.predict(X_test)"
   ]
  },
  {
   "cell_type": "code",
   "execution_count": null,
   "id": "763039cb-7cf1-4557-98c8-ee2798b9da70",
   "metadata": {
    "tags": []
   },
   "outputs": [],
   "source": [
    "accuracy_score(predictions,Y_test)"
   ]
  },
  {
   "cell_type": "code",
   "execution_count": null,
   "id": "28df6a98-8ab1-4a41-b384-ba022373df98",
   "metadata": {
    "tags": []
   },
   "outputs": [],
   "source": [
    "precision_score(predictions, Y_test)"
   ]
  },
  {
   "cell_type": "code",
   "execution_count": null,
   "id": "919240fb-f7bf-4a60-a565-aceb674396ad",
   "metadata": {
    "tags": []
   },
   "outputs": [],
   "source": [
    "spam_words = ' '.join(X_train_sms[Y_train == 1])\n",
    "wordcloud = WordCloud( max_words=150).generate(spam_words)\n",
    "plt.figure(figsize=(8, 8), facecolor=None)\n",
    "plt.imshow(wordcloud)\n",
    "plt.axis(\"off\")\n",
    "plt.tight_layout(pad=0)\n",
    "plt.show()"
   ]
  },
  {
   "cell_type": "code",
   "execution_count": null,
   "id": "2489b8c4-3db3-445e-90b9-8f7d3043b7ef",
   "metadata": {
    "tags": []
   },
   "outputs": [],
   "source": [
    "\n",
    "\n",
    "SVM = SVC(kernel = 'rbf')\n",
    "RF = RandomForestClassifier()\n",
    "P = Perceptron(random_state = 42)\n",
    "\n",
    "\n",
    "X_train_sms, X_test_sms, Y_train, Y_test = train_test_split(df['sms_message'], df['label'], test_size = 0.5, random_state =42)\n",
    "X_train = count_vector.fit_transform(X_train_sms).toarray()\n",
    "X_test = count_vector.transform(X_test_sms).toarray()\n",
    "MNB.fit(X_train,Y_train)\n",
    "SVM.fit(X_train, Y_train)\n",
    "RF.fit(X_train, Y_train)\n",
    "P.fit(X_train,Y_train)\n",
    "\n",
    "\n",
    "NB_accuracy = accuracy_score(MNB.predict(X_test), Y_test)\n",
    "NB_precision = precision_score(MNB.predict(X_test), Y_test)\n",
    "SVM_accuracy= accuracy_score(SVM.predict(X_test), Y_test)\n",
    "SVM_precision = precision_score(SVM.predict(X_test), Y_test)\n",
    "Random_Forest_accuracy =accuracy_score(RF.predict(X_test), Y_test)\n",
    "Random_Forest_precision = precision_score(RF.predict(X_test), Y_test)\n",
    "P_accuracy =accuracy_score(P.predict(X_test), Y_test)\n",
    "P_precision = precision_score(P.predict(X_test), Y_test)\n",
    "\n",
    "\n",
    "X = ['NaiveBayes', 'SVM', 'Random Forest', 'Perceptron']\n",
    "Yaccuracy = [NB_accuracy, SVM_accuracy, Random_Forest_accuracy, P_accuracy]\n",
    "Zprecision = [NB_precision, SVM_precision, Random_Forest_precision, P_precision]\n",
    "X_axis = np.arange(len(X))\n",
    "plt.bar(X_axis - 0.2, Yaccuracy, 0.4, label = 'Accuracy')\n",
    "plt.bar(X_axis + 0.2, Zprecision, 0.4, label = 'Precision')\n",
    "\n",
    "  \n",
    "plt.xticks(X_axis, X)\n",
    "plt.xlabel(\"Classifiers\")\n",
    "\n",
    "plt.title(\"Accuracy and Precision Across Different Classifiers For Test Size 0.5\")\n",
    "plt.legend()\n",
    "plt.show()\n"
   ]
  },
  {
   "cell_type": "code",
   "execution_count": null,
   "id": "03852c53-f5e1-4a90-9714-6185487f4463",
   "metadata": {
    "tags": []
   },
   "outputs": [],
   "source": [
    "X_train_sms, X_test_sms, Y_train, Y_test = train_test_split(df['sms_message'], df['label'], test_size = 0.25, random_state =42)\n",
    "X_train = count_vector.fit_transform(X_train_sms).toarray()\n",
    "X_test = count_vector.transform(X_test_sms).toarray()\n",
    "MNB.fit(X_train,Y_train)\n",
    "SVM.fit(X_train, Y_train)\n",
    "RF.fit(X_train, Y_train)\n",
    "P.fit(X_train,Y_train)\n",
    "\n",
    "\n",
    "NB_accuracy = accuracy_score(MNB.predict(X_test), Y_test)\n",
    "NB_precision = precision_score(MNB.predict(X_test), Y_test)\n",
    "SVM_accuracy= accuracy_score(SVM.predict(X_test), Y_test)\n",
    "SVM_precision = precision_score(SVM.predict(X_test), Y_test)\n",
    "Random_Forest_accuracy =accuracy_score(RF.predict(X_test), Y_test)\n",
    "Random_Forest_precision = precision_score(RF.predict(X_test), Y_test)\n",
    "P_accuracy =accuracy_score(P.predict(X_test), Y_test)\n",
    "P_precision = precision_score(P.predict(X_test), Y_test)\n",
    "\n",
    "\n",
    "X = ['NaiveBayes', 'SVM', 'Random Forest', 'Perceptron']\n",
    "Yaccuracy = [NB_accuracy, SVM_accuracy, Random_Forest_accuracy, P_accuracy]\n",
    "Zprecision = [NB_precision, SVM_precision, Random_Forest_precision, P_precision]\n",
    "X_axis = np.arange(len(X))\n",
    "plt.bar(X_axis - 0.2, Yaccuracy, 0.4, label = 'Accuracy')\n",
    "plt.bar(X_axis + 0.2, Zprecision, 0.4, label = 'Precision')\n",
    "\n",
    "  \n",
    "plt.xticks(X_axis, X)\n",
    "plt.xlabel(\"Classifiers\")\n",
    "\n",
    "plt.title(\"Accuracy and Precision Across Different Classifiers For Test Size 0.25\")\n",
    "plt.legend()\n",
    "plt.show()"
   ]
  },
  {
   "cell_type": "code",
   "execution_count": null,
   "id": "88e75343-8d2b-41e0-b5cd-a3aff0d56caa",
   "metadata": {
    "tags": []
   },
   "outputs": [],
   "source": [
    "X_train_sms, X_test_sms, Y_train, Y_test = train_test_split(df['sms_message'], df['label'], test_size = 0.75, random_state =42)\n",
    "X_train = count_vector.fit_transform(X_train_sms).toarray()\n",
    "X_test = count_vector.transform(X_test_sms).toarray()\n",
    "MNB.fit(X_train,Y_train)\n",
    "SVM.fit(X_train, Y_train)\n",
    "RF.fit(X_train, Y_train)\n",
    "P.fit(X_train,Y_train)\n",
    "\n",
    "\n",
    "NB_accuracy = accuracy_score(MNB.predict(X_test), Y_test)\n",
    "NB_precision = precision_score(MNB.predict(X_test), Y_test)\n",
    "SVM_accuracy= accuracy_score(SVM.predict(X_test), Y_test)\n",
    "SVM_precision = precision_score(SVM.predict(X_test), Y_test)\n",
    "Random_Forest_accuracy =accuracy_score(RF.predict(X_test), Y_test)\n",
    "Random_Forest_precision = precision_score(RF.predict(X_test), Y_test)\n",
    "P_accuracy =accuracy_score(P.predict(X_test), Y_test)\n",
    "P_precision = precision_score(P.predict(X_test), Y_test)\n",
    "\n",
    "\n",
    "X = ['NaiveBayes', 'SVM', 'Random Forest', 'Perceptron']\n",
    "Yaccuracy = [NB_accuracy, SVM_accuracy, Random_Forest_accuracy, P_accuracy]\n",
    "Zprecision = [NB_precision, SVM_precision, Random_Forest_precision, P_precision]\n",
    "X_axis = np.arange(len(X))\n",
    "plt.bar(X_axis - 0.2, Yaccuracy, 0.4, label = 'Accuracy')\n",
    "plt.bar(X_axis + 0.2, Zprecision, 0.4, label = 'Precision')\n",
    "\n",
    "  \n",
    "plt.xticks(X_axis, X)\n",
    "plt.xlabel(\"Classifiers\")\n",
    "\n",
    "plt.title(\"Accuracy and Precision Across Different Classifiers For Test Size 0.75\")\n",
    "plt.legend()\n",
    "plt.show()"
   ]
  },
  {
   "cell_type": "code",
   "execution_count": null,
   "id": "8e894b5d-044a-4198-bd18-64bb83d42671",
   "metadata": {
    "tags": []
   },
   "outputs": [],
   "source": [
    "X = count_vector.fit_transform(df['sms_message'])\n",
    "Y = df['label']\n"
   ]
  },
  {
   "cell_type": "code",
   "execution_count": null,
   "id": "e659452d-f3d6-4648-9868-5c297854e43b",
   "metadata": {
    "tags": []
   },
   "outputs": [],
   "source": [
    "kf = KFold(n_splits = 5)"
   ]
  },
  {
   "cell_type": "code",
   "execution_count": null,
   "id": "0996fd10-ba19-47bd-aced-0a6a3e2059db",
   "metadata": {
    "tags": []
   },
   "outputs": [],
   "source": [
    "accuracy_list = []\n",
    "precision_list = []\n",
    "\n",
    "for i, (train_index, test_index) in enumerate(kf.split(X)):\n",
    "    print(f\"Fold {i}\")\n",
    "\n",
    "    \n",
    "    X_train, X_test = X[train_index], X[test_index]\n",
    "    Y_train, Y_test = Y[train_index], Y[test_index]\n",
    "    MNB.fit(X_train,Y_train)\n",
    "    KFPredict = MNB.predict(X_test)\n",
    "    \n",
    "    accuracy = accuracy_score(KFPredict,Y_test)\n",
    "    precision = precision_score(KFPredict,Y_test)\n",
    "    \n",
    "    accuracy_list.append(accuracy)\n",
    "    precision_list.append(precision)\n",
    "    \n",
    "    print(f\" Accuracy: {accuracy}\")\n",
    "    print(f\" Precision: {precision}\")\n",
    "    print(\"\\n\")\n",
    "    \n",
    "\n",
    "mean_accuracy = mean(accuracy_list)\n",
    "mean_precision = mean(precision_list)\n",
    "print(f\" Mean Accuracy: {mean_accuracy}\")\n",
    "print(f\" Mean Precision: {mean_precision}\")"
   ]
  },
  {
   "cell_type": "code",
   "execution_count": null,
   "id": "b9459166-2f9e-4404-9786-e245d3ab96bc",
   "metadata": {
    "tags": []
   },
   "outputs": [],
   "source": [
    "kf = KFold(n_splits = 10)\n",
    "\n",
    "\n",
    "accuracy_list = []\n",
    "precision_list = []\n",
    "\n",
    "for i, (train_index, test_index) in enumerate(kf.split(X)):\n",
    "    print(f\"Fold {i}\")\n",
    " \n",
    "    \n",
    "    X_train, X_test = X[train_index], X[test_index]\n",
    "    Y_train, Y_test = Y[train_index], Y[test_index]\n",
    "    MNB.fit(X_train,Y_train)\n",
    "    KFPredict = MNB.predict(X_test)\n",
    "    \n",
    "    accuracy = accuracy_score(KFPredict,Y_test)\n",
    "    precision = precision_score(KFPredict,Y_test)\n",
    "    \n",
    "    accuracy_list.append(accuracy)\n",
    "    precision_list.append(precision)\n",
    "    \n",
    "    print(f\" Accuracy: {accuracy}\")\n",
    "    print(f\" Precision: {precision}\")\n",
    "    print(\"\\n\")\n",
    "  \n",
    "\n",
    "mean_accuracy = mean(accuracy_list)\n",
    "mean_precision = mean(precision_list)\n",
    "print(f\" Mean Accuracy: {mean_accuracy}\")\n",
    "print(f\" Mean Precision: {mean_precision}\")"
   ]
  },
  {
   "cell_type": "code",
   "execution_count": null,
   "id": "f60367ad-6701-49fc-b1f2-2e8d304a0193",
   "metadata": {
    "tags": []
   },
   "outputs": [],
   "source": [
    "kf = KFold(n_splits = 5, shuffle = True, random_state = 42)\n",
    "\n",
    "\n",
    "accuracy_list = []\n",
    "precision_list = []\n",
    "\n",
    "for i, (train_index, test_index) in enumerate(kf.split(X)):\n",
    "    print(f\"Fold {i}\")\n",
    "   \n",
    "    \n",
    "    X_train, X_test = X[train_index], X[test_index]\n",
    "    Y_train, Y_test = Y[train_index], Y[test_index]\n",
    "    MNB.fit(X_train,Y_train)\n",
    "    KFPredict = MNB.predict(X_test)\n",
    "    \n",
    "    accuracy = accuracy_score(KFPredict,Y_test)\n",
    "    precision = precision_score(KFPredict,Y_test)\n",
    "    \n",
    "    accuracy_list.append(accuracy)\n",
    "    precision_list.append(precision)\n",
    "    \n",
    "    print(f\" Accuracy: {accuracy}\")\n",
    "    print(f\" Precision: {precision}\")\n",
    "    print(\"\\n\")\n",
    "   \n",
    "\n",
    "mean_accuracy = mean(accuracy_list)\n",
    "mean_precision = mean(precision_list)\n",
    "print(f\" Mean Accuracy: {mean_accuracy}\")\n",
    "print(f\" Mean Precision: {mean_precision}\")"
   ]
  },
  {
   "cell_type": "code",
   "execution_count": null,
   "id": "c7dc7f86-7889-434f-bd9b-06b71693f1b7",
   "metadata": {
    "tags": []
   },
   "outputs": [],
   "source": [
    "kf = KFold(n_splits = 10, shuffle = True, random_state = 42)\n",
    "\n",
    "\n",
    "accuracy_list = []\n",
    "precision_list = []\n",
    "\n",
    "for i, (train_index, test_index) in enumerate(kf.split(X)):\n",
    "    print(f\"Fold {i}\")\n",
    "   \n",
    "    \n",
    "    X_train, X_test = X[train_index], X[test_index]\n",
    "    Y_train, Y_test = Y[train_index], Y[test_index]\n",
    "    MNB.fit(X_train,Y_train)\n",
    "    KFPredict = MNB.predict(X_test)\n",
    "    \n",
    "    accuracy = accuracy_score(KFPredict,Y_test)\n",
    "    precision = precision_score(KFPredict,Y_test)\n",
    "    \n",
    "    accuracy_list.append(accuracy)\n",
    "    precision_list.append(precision)\n",
    "    \n",
    "    print(f\" Accuracy: {accuracy}\")\n",
    "    print(f\" Precision: {precision}\")\n",
    "    print(\"\\n\")\n",
    " \n",
    "\n",
    "mean_accuracy = mean(accuracy_list)\n",
    "mean_precision = mean(precision_list)\n",
    "print(f\" Mean Accuracy: {mean_accuracy}\")\n",
    "print(f\" Mean Precision: {mean_precision}\")"
   ]
  },
  {
   "cell_type": "code",
   "execution_count": null,
   "id": "6a23b387-1c42-4f18-96eb-a2c64e8a0279",
   "metadata": {},
   "outputs": [],
   "source": [
    "imbalanced_file_path = \"C:\\\\Users\\agrim\\\\Python_Projects\\\\AI_Learning-Research\\\\imbalanced_spam.csv\"\n",
    "df3 = pd.read_csv(imbalanced_file_path)\n",
    "\n",
    "df3 = df3.reindex(np.random.permutation(df3.index))\n",
    "df3.reset_index(inplace=True, drop=True)\n",
    "df3.head()"
   ]
  },
  {
   "cell_type": "code",
   "execution_count": null,
   "id": "c3e2b07c-5b2a-4268-b305-fc0fe0c0f092",
   "metadata": {},
   "outputs": [],
   "source": [
    "X_train_sms, X_test_sms, Y_train, Y_test = train_test_split(df3['email'], df3['label'], test_size = 0.25, random_state =42)\n",
    "X_train = count_vector.fit_transform(X_train_sms).toarray()\n",
    "X_test = count_vector.transform(X_test_sms).toarray()\n",
    "MNB.fit(X_train,Y_train)\n",
    "SVM.fit(X_train, Y_train)\n",
    "RF.fit(X_train, Y_train)\n",
    "P.fit(X_train,Y_train)\n",
    "\n",
    "\n",
    "NB_accuracy = accuracy_score(MNB.predict(X_test), Y_test)\n",
    "NB_precision = precision_score(MNB.predict(X_test), Y_test)\n",
    "SVM_accuracy= accuracy_score(SVM.predict(X_test), Y_test)\n",
    "SVM_precision = precision_score(SVM.predict(X_test), Y_test)\n",
    "Random_Forest_accuracy =accuracy_score(RF.predict(X_test), Y_test)\n",
    "Random_Forest_precision = precision_score(RF.predict(X_test), Y_test)\n",
    "P_accuracy =accuracy_score(P.predict(X_test), Y_test)\n",
    "P_precision = precision_score(P.predict(X_test), Y_test)\n",
    "\n",
    "\n",
    "X = ['NaiveBayes', 'SVM', 'Random Forest', 'Perceptron']\n",
    "Yaccuracy = [NB_accuracy, SVM_accuracy, Random_Forest_accuracy, P_accuracy]\n",
    "Zprecision = [NB_precision, SVM_precision, Random_Forest_precision, P_precision]\n",
    "X_axis = np.arange(len(X))\n",
    "plt.bar(X_axis - 0.2, Yaccuracy, 0.4, label = 'Accuracy')\n",
    "plt.bar(X_axis + 0.2, Zprecision, 0.4, label = 'Precision')\n",
    "\n",
    "  \n",
    "plt.xticks(X_axis, X)\n",
    "plt.xlabel(\"Classifiers\")\n",
    "\n",
    "plt.title(\"Accuracy and Precision for an imbalanced dataset Across Different Classifiers For Test Size 0.25\")\n",
    "plt.legend()\n",
    "plt.show()"
   ]
  },
  {
   "cell_type": "code",
   "execution_count": null,
   "id": "bfc6da70-21ca-4fd1-b5e6-bb29e7333b54",
   "metadata": {},
   "outputs": [],
   "source": [
    "X_train_sms, X_test_sms, Y_train, Y_test = train_test_split(df3['email'], df3['label'], test_size = 0.5, random_state =42)\n",
    "X_train = count_vector.fit_transform(X_train_sms).toarray()\n",
    "X_test = count_vector.transform(X_test_sms).toarray()\n",
    "MNB.fit(X_train,Y_train)\n",
    "SVM.fit(X_train, Y_train)\n",
    "RF.fit(X_train, Y_train)\n",
    "P.fit(X_train,Y_train)\n",
    "\n",
    "\n",
    "NB_accuracy = accuracy_score(MNB.predict(X_test), Y_test)\n",
    "NB_precision = precision_score(MNB.predict(X_test), Y_test)\n",
    "SVM_accuracy= accuracy_score(SVM.predict(X_test), Y_test)\n",
    "SVM_precision = precision_score(SVM.predict(X_test), Y_test)\n",
    "Random_Forest_accuracy =accuracy_score(RF.predict(X_test), Y_test)\n",
    "Random_Forest_precision = precision_score(RF.predict(X_test), Y_test)\n",
    "P_accuracy =accuracy_score(P.predict(X_test), Y_test)\n",
    "P_precision = precision_score(P.predict(X_test), Y_test)\n",
    "\n",
    "\n",
    "X = ['NaiveBayes', 'SVM', 'Random Forest', 'Perceptron']\n",
    "Yaccuracy = [NB_accuracy, SVM_accuracy, Random_Forest_accuracy, P_accuracy]\n",
    "Zprecision = [NB_precision, SVM_precision, Random_Forest_precision, P_precision]\n",
    "X_axis = np.arange(len(X))\n",
    "plt.bar(X_axis - 0.2, Yaccuracy, 0.4, label = 'Accuracy')\n",
    "plt.bar(X_axis + 0.2, Zprecision, 0.4, label = 'Precision')\n",
    "\n",
    "  \n",
    "plt.xticks(X_axis, X)\n",
    "plt.xlabel(\"Classifiers\")\n",
    "\n",
    "plt.title(\"Accuracy and Precision for an imbalanced dataset Across Different Classifiers For Test Size 0.5\")\n",
    "plt.legend()\n",
    "plt.show()"
   ]
  },
  {
   "cell_type": "code",
   "execution_count": null,
   "id": "b4b0949d-3a69-45a1-ad7c-b691eb7758a9",
   "metadata": {},
   "outputs": [],
   "source": [
    "X_train_sms, X_test_sms, Y_train, Y_test = train_test_split(df3['email'], df3['label'], test_size = 0.75, random_state =42)\n",
    "X_train = count_vector.fit_transform(X_train_sms).toarray()\n",
    "X_test = count_vector.transform(X_test_sms).toarray()\n",
    "MNB.fit(X_train,Y_train)\n",
    "SVM.fit(X_train, Y_train)\n",
    "RF.fit(X_train, Y_train)\n",
    "P.fit(X_train,Y_train)\n",
    "\n",
    "\n",
    "NB_accuracy = accuracy_score(MNB.predict(X_test), Y_test)\n",
    "NB_precision = precision_score(MNB.predict(X_test), Y_test)\n",
    "SVM_accuracy= accuracy_score(SVM.predict(X_test), Y_test)\n",
    "SVM_precision = precision_score(SVM.predict(X_test), Y_test)\n",
    "Random_Forest_accuracy =accuracy_score(RF.predict(X_test), Y_test)\n",
    "Random_Forest_precision = precision_score(RF.predict(X_test), Y_test)\n",
    "P_accuracy =accuracy_score(P.predict(X_test), Y_test)\n",
    "P_precision = precision_score(P.predict(X_test), Y_test)\n",
    "\n",
    "\n",
    "X = ['NaiveBayes', 'SVM', 'Random Forest', 'Perceptron']\n",
    "Yaccuracy = [NB_accuracy, SVM_accuracy, Random_Forest_accuracy, P_accuracy]\n",
    "Zprecision = [NB_precision, SVM_precision, Random_Forest_precision, P_precision]\n",
    "X_axis = np.arange(len(X))\n",
    "plt.bar(X_axis - 0.2, Yaccuracy, 0.4, label = 'Accuracy')\n",
    "plt.bar(X_axis + 0.2, Zprecision, 0.4, label = 'Precision')\n",
    "\n",
    "  \n",
    "plt.xticks(X_axis, X)\n",
    "plt.xlabel(\"Classifiers\")\n",
    "\n",
    "plt.title(\"Accuracy and Precision for an imbalanced dataset Across Different Classifiers For Test Size 0.75\")\n",
    "plt.legend()\n",
    "plt.show()"
   ]
  },
  {
   "cell_type": "code",
   "execution_count": null,
   "id": "333dd7c7-f18c-428c-a97f-cb46823932cb",
   "metadata": {},
   "outputs": [],
   "source": []
  },
  {
   "cell_type": "code",
   "execution_count": null,
   "id": "60d32604-75d8-4ec7-a334-a4f84b9a66da",
   "metadata": {},
   "outputs": [],
   "source": []
  }
 ],
 "metadata": {
  "kernelspec": {
   "display_name": "Python 3 (ipykernel)",
   "language": "python",
   "name": "python3"
  },
  "language_info": {
   "codemirror_mode": {
    "name": "ipython",
    "version": 3
   },
   "file_extension": ".py",
   "mimetype": "text/x-python",
   "name": "python",
   "nbconvert_exporter": "python",
   "pygments_lexer": "ipython3",
   "version": "3.11.3"
  }
 },
 "nbformat": 4,
 "nbformat_minor": 5
}
